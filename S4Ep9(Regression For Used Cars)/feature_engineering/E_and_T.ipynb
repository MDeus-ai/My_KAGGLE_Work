{
 "cells": [
  {
   "cell_type": "code",
   "execution_count": 1,
   "metadata": {
    "collapsed": true,
    "ExecuteTime": {
     "end_time": "2024-09-12T20:56:57.533823Z",
     "start_time": "2024-09-12T20:56:57.530072100Z"
    }
   },
   "outputs": [],
   "source": [
    "# Importing Base Libraries\n",
    "import pandas as pd\n",
    "import numpy as np\n",
    "import matplotlib.pyplot as plt\n",
    "import seaborn as sns\n",
    "sns.set()"
   ]
  },
  {
   "cell_type": "code",
   "execution_count": 2,
   "outputs": [],
   "source": [
    "train = pd.read_csv('../datasets/cleaned_train_data/train_data.csv')"
   ],
   "metadata": {
    "collapsed": false,
    "ExecuteTime": {
     "end_time": "2024-09-12T20:56:57.896245300Z",
     "start_time": "2024-09-12T20:56:57.536037Z"
    }
   }
  },
  {
   "cell_type": "markdown",
   "source": [
    "# DATA TRANSFORMATION PIPELINE"
   ],
   "metadata": {
    "collapsed": false
   }
  },
  {
   "cell_type": "code",
   "execution_count": 3,
   "outputs": [],
   "source": [
    "from sklearn.compose import ColumnTransformer\n",
    "from sklearn.preprocessing import StandardScaler, MinMaxScaler\n",
    "from sklearn.preprocessing import OneHotEncoder\n",
    "\n",
    "# # Convert model_year To String\n",
    "# train['model_year'] = train['model_year'].astype(str)\n",
    "\n",
    "def feature_transformer(remaining_features, col_names=None, dtype_to_transform=None, scaling_method=None):\n",
    "    num_features = ['model_year', 'milage', 'price']\n",
    "    cat_features = ['clean_title', 'brand', 'model', 'model_year', 'fuel_type',\n",
    "                    'engine', 'transmission', 'ext_col', 'int_col', 'accident']\n",
    "\n",
    "    if dtype_to_transform == 'numerical':\n",
    "        data_transform = ColumnTransformer([\n",
    "            ('num_transform', scaling_method, num_features)\n",
    "        ], remainder=remaining_features)\n",
    "    elif dtype_to_transform == 'categorical':\n",
    "        data_transform = ColumnTransformer([\n",
    "            ('cat_transform', OneHotEncoder(), cat_features)\n",
    "        ], remainder=remaining_features)\n",
    "    else:\n",
    "        data_transform = ColumnTransformer([\n",
    "            ('cat_transform', OneHotEncoder(sparse_output=False), cat_features),\n",
    "            ('num_transform', scaling_method, num_features)\n",
    "        ], remainder=remaining_features)\n",
    "\n",
    "    return pd.DataFrame(data_transform.fit_transform(train), columns=col_names)\n",
    "\n",
    "\n"
   ],
   "metadata": {
    "collapsed": false,
    "ExecuteTime": {
     "end_time": "2024-09-12T20:56:58.160742200Z",
     "start_time": "2024-09-12T20:56:57.896245300Z"
    }
   }
  },
  {
   "cell_type": "markdown",
   "source": [
    "# FEATURE SELECTION"
   ],
   "metadata": {
    "collapsed": false
   }
  },
  {
   "cell_type": "markdown",
   "source": [
    "### Variance Thresholding"
   ],
   "metadata": {
    "collapsed": false
   }
  },
  {
   "cell_type": "code",
   "execution_count": 4,
   "outputs": [
    {
     "name": "stdout",
     "output_type": "stream",
     "text": [
      "model_year    0.044679\n",
      "milage        0.055246\n",
      "price         0.040937\n",
      "dtype: float64\n"
     ]
    },
    {
     "data": {
      "text/plain": "<Figure size 640x480 with 1 Axes>",
      "image/png": "[encoded data removed]"
     },
     "metadata": {},
     "output_type": "display_data"
    }
   ],
   "source": [
    "# Variances Of Scaled Numerical Features (milage, model_year, price)\n",
    "scaledNumFeatures = feature_transformer(dtype_to_transform='numerical',\n",
    "                                        remaining_features='drop',\n",
    "                                        scaling_method=MinMaxScaler(), col_names=['model_year', 'milage', 'price'])\n",
    "\n",
    "num_variances = scaledNumFeatures.var(axis=0)\n",
    "print(num_variances)\n",
    "\n",
    "# Graph\n",
    "sns.barplot(num_variances, color='orange')\n",
    "plt.title(\"Variances Of Numerical Variables\")\n",
    "plt.show()\n"
   ],
   "metadata": {
    "collapsed": false,
    "ExecuteTime": {
     "end_time": "2024-09-12T20:56:58.488829600Z",
     "start_time": "2024-09-12T20:56:58.171381500Z"
    }
   }
  },
  {
   "cell_type": "code",
   "execution_count": 5,
   "outputs": [
    {
     "data": {
      "text/plain": "   0     1     2     3     4     5     6     7     8     9     ...  3554  \\\n0   1.0   0.0   0.0   0.0   0.0   0.0   0.0   0.0   0.0   0.0  ...   0.0   \n1   1.0   0.0   0.0   0.0   1.0   0.0   0.0   0.0   0.0   0.0  ...   0.0   \n2   1.0   0.0   0.0   0.0   0.0   0.0   0.0   0.0   0.0   1.0  ...   0.0   \n3   1.0   0.0   0.0   0.0   0.0   0.0   0.0   0.0   0.0   0.0  ...   0.0   \n4   1.0   0.0   0.0   0.0   0.0   1.0   0.0   0.0   0.0   0.0  ...   0.0   \n\n   3555  3556  3557  3558  3559  3560      3561      3562      3563  \n0   0.0   0.0   0.0   0.0   0.0   1.0  0.055963 -1.116294  0.752295  \n1   0.0   0.0   0.0   0.0   0.0   1.0 -0.193034 -0.004490 -0.222611  \n2   0.0   0.0   0.0   0.0   0.0   1.0 -0.193034  1.047533 -1.167975  \n3   0.0   0.0   0.0   0.0   0.0   1.0  0.802955 -0.625434  1.809330  \n4   0.0   0.0   0.0   0.0   0.0   1.0 -0.442032  0.324886 -1.670199  \n\n[5 rows x 3564 columns]",
      "text/html": "<div>\n<style scoped>\n    .dataframe tbody tr th:only-of-type {\n        vertical-align: middle;\n    }\n\n    .dataframe tbody tr th {\n        vertical-align: top;\n    }\n\n    .dataframe thead th {\n        text-align: right;\n    }\n</style>\n<table border=\"1\" class=\"dataframe\">\n  <thead>\n    <tr style=\"text-align: right;\">\n      <th></th>\n      <th>0</th>\n      <th>1</th>\n      <th>2</th>\n      <th>3</th>\n      <th>4</th>\n      <th>5</th>\n      <th>6</th>\n      <th>7</th>\n      <th>8</th>\n      <th>9</th>\n      <th>...</th>\n      <th>3554</th>\n      <th>3555</th>\n      <th>3556</th>\n      <th>3557</th>\n      <th>3558</th>\n      <th>3559</th>\n      <th>3560</th>\n      <th>3561</th>\n      <th>3562</th>\n      <th>3563</th>\n    </tr>\n  </thead>\n  <tbody>\n    <tr>\n      <th>0</th>\n      <td>1.0</td>\n      <td>0.0</td>\n      <td>0.0</td>\n      <td>0.0</td>\n      <td>0.0</td>\n      <td>0.0</td>\n      <td>0.0</td>\n      <td>0.0</td>\n      <td>0.0</td>\n      <td>0.0</td>\n      <td>...</td>\n      <td>0.0</td>\n      <td>0.0</td>\n      <td>0.0</td>\n      <td>0.0</td>\n      <td>0.0</td>\n      <td>0.0</td>\n      <td>1.0</td>\n      <td>0.055963</td>\n      <td>-1.116294</td>\n      <td>0.752295</td>\n    </tr>\n    <tr>\n      <th>1</th>\n      <td>1.0</td>\n      <td>0.0</td>\n      <td>0.0</td>\n      <td>0.0</td>\n      <td>1.0</td>\n      <td>0.0</td>\n      <td>0.0</td>\n      <td>0.0</td>\n      <td>0.0</td>\n      <td>0.0</td>\n      <td>...</td>\n      <td>0.0</td>\n      <td>0.0</td>\n      <td>0.0</td>\n      <td>0.0</td>\n      <td>0.0</td>\n      <td>0.0</td>\n      <td>1.0</td>\n      <td>-0.193034</td>\n      <td>-0.004490</td>\n      <td>-0.222611</td>\n    </tr>\n    <tr>\n      <th>2</th>\n      <td>1.0</td>\n      <td>0.0</td>\n      <td>0.0</td>\n      <td>0.0</td>\n      <td>0.0</td>\n      <td>0.0</td>\n      <td>0.0</td>\n      <td>0.0</td>\n      <td>0.0</td>\n      <td>1.0</td>\n      <td>...</td>\n      <td>0.0</td>\n      <td>0.0</td>\n      <td>0.0</td>\n      <td>0.0</td>\n      <td>0.0</td>\n      <td>0.0</td>\n      <td>1.0</td>\n      <td>-0.193034</td>\n      <td>1.047533</td>\n      <td>-1.167975</td>\n    </tr>\n    <tr>\n      <th>3</th>\n      <td>1.0</td>\n      <td>0.0</td>\n      <td>0.0</td>\n      <td>0.0</td>\n      <td>0.0</td>\n      <td>0.0</td>\n      <td>0.0</td>\n      <td>0.0</td>\n      <td>0.0</td>\n      <td>0.0</td>\n      <td>...</td>\n      <td>0.0</td>\n      <td>0.0</td>\n      <td>0.0</td>\n      <td>0.0</td>\n      <td>0.0</td>\n      <td>0.0</td>\n      <td>1.0</td>\n      <td>0.802955</td>\n      <td>-0.625434</td>\n      <td>1.809330</td>\n    </tr>\n    <tr>\n      <th>4</th>\n      <td>1.0</td>\n      <td>0.0</td>\n      <td>0.0</td>\n      <td>0.0</td>\n      <td>0.0</td>\n      <td>1.0</td>\n      <td>0.0</td>\n      <td>0.0</td>\n      <td>0.0</td>\n      <td>0.0</td>\n      <td>...</td>\n      <td>0.0</td>\n      <td>0.0</td>\n      <td>0.0</td>\n      <td>0.0</td>\n      <td>0.0</td>\n      <td>0.0</td>\n      <td>1.0</td>\n      <td>-0.442032</td>\n      <td>0.324886</td>\n      <td>-1.670199</td>\n    </tr>\n  </tbody>\n</table>\n<p>5 rows × 3564 columns</p>\n</div>"
     },
     "execution_count": 5,
     "metadata": {},
     "output_type": "execute_result"
    }
   ],
   "source": [
    "# TRANSFORMING THE WHOLE DATASET\n",
    "transformed_data = feature_transformer(remaining_features='drop', scaling_method=StandardScaler())\n",
    "transformed_data.head(5)"
   ],
   "metadata": {
    "collapsed": false,
    "ExecuteTime": {
     "end_time": "2024-09-12T20:57:19.979990500Z",
     "start_time": "2024-09-12T20:56:58.479114100Z"
    }
   }
  },
  {
   "cell_type": "code",
   "execution_count": 6,
   "outputs": [
    {
     "data": {
      "text/plain": "0       0.000000\n1       0.012522\n2       0.004082\n3       0.000588\n4       0.064098\n          ...   \n3559    0.174794\n3560    0.174794\n3561    1.000008\n3562    1.000008\n3563    1.000008\nLength: 3564, dtype: float64"
     },
     "execution_count": 6,
     "metadata": {},
     "output_type": "execute_result"
    }
   ],
   "source": [
    "# VARIANCES OF THE WHOLE TRANSFORMED DATA\n",
    "feature_variances = transformed_data.var(axis=0)\n",
    "feature_variances"
   ],
   "metadata": {
    "collapsed": false,
    "ExecuteTime": {
     "end_time": "2024-09-12T20:58:31.091446300Z",
     "start_time": "2024-09-12T20:57:20.003790400Z"
    }
   }
  },
  {
   "cell_type": "code",
   "execution_count": 7,
   "outputs": [],
   "source": [
    "# APPLYING VARIANCE THRESHOLDING\n",
    "from sklearn.feature_selection import VarianceThreshold\n",
    "threshold = 0.001\n",
    "variance_selector = VarianceThreshold(threshold=threshold)\n",
    "\n",
    "reduced_data = variance_selector.fit_transform(transformed_data)"
   ],
   "metadata": {
    "collapsed": false,
    "ExecuteTime": {
     "end_time": "2024-09-12T20:58:57.713697400Z",
     "start_time": "2024-09-12T20:58:31.069875700Z"
    }
   }
  },
  {
   "cell_type": "code",
   "execution_count": 8,
   "outputs": [
    {
     "name": "stdout",
     "output_type": "stream",
     "text": [
      "Num Of Features Before Variance Thresholding: 3564\n",
      "Num Of Features After Variance Thresholding: 616\n",
      "====================================================\n",
      "Total Number Of Features Removed: 2948\n"
     ]
    }
   ],
   "source": [
    "# NUMBER OF FEATURES DROPPED\n",
    "print(f\"Num Of Features Before Variance Thresholding: {transformed_data.shape[1]}\")\n",
    "print(f\"Num Of Features After Variance Thresholding: {reduced_data.shape[1]}\")\n",
    "print(\"====================================================\")\n",
    "print(f\"Total Number Of Features Removed: {transformed_data.shape[1] - reduced_data.shape[1]}\")"
   ],
   "metadata": {
    "collapsed": false,
    "ExecuteTime": {
     "end_time": "2024-09-12T20:58:57.817402500Z",
     "start_time": "2024-09-12T20:58:57.726967900Z"
    }
   }
  },
  {
   "cell_type": "markdown",
   "source": [
    "## X, y"
   ],
   "metadata": {
    "collapsed": false
   }
  },
  {
   "cell_type": "code",
   "execution_count": 12,
   "outputs": [],
   "source": [
    "X_train, y_train  = reduced_data[:, :-1], reduced_data[:, -1]"
   ],
   "metadata": {
    "collapsed": false,
    "ExecuteTime": {
     "end_time": "2024-09-12T20:59:49.640480200Z",
     "start_time": "2024-09-12T20:59:49.616817Z"
    }
   }
  },
  {
   "cell_type": "code",
   "execution_count": 14,
   "outputs": [
    {
     "data": {
      "text/plain": "array([[ 0.        ,  0.        ,  0.        , ...,  1.        ,\n         0.05596288, -1.11629429],\n       [ 0.        ,  0.        ,  1.        , ...,  1.        ,\n        -0.19303433, -0.00448956],\n       [ 0.        ,  0.        ,  0.        , ...,  1.        ,\n        -0.19303433,  1.04753287],\n       ...,\n       [ 0.        ,  0.        ,  0.        , ...,  1.        ,\n         0.05596288, -0.34818564],\n       [ 0.        ,  0.        ,  0.        , ...,  0.        ,\n         0.30496009, -0.8793523 ],\n       [ 0.        ,  0.        ,  0.        , ...,  1.        ,\n        -0.19303433, -0.07479103]])"
     },
     "execution_count": 14,
     "metadata": {},
     "output_type": "execute_result"
    }
   ],
   "source": [],
   "metadata": {
    "collapsed": false,
    "ExecuteTime": {
     "end_time": "2024-09-12T21:00:03.054611200Z",
     "start_time": "2024-09-12T21:00:03.038789300Z"
    }
   }
  },
  {
   "cell_type": "code",
   "execution_count": null,
   "outputs": [],
   "source": [],
   "metadata": {
    "collapsed": false
   }
  }
 ],
 "metadata": {
  "kernelspec": {
   "display_name": "Python 3",
   "language": "python",
   "name": "python3"
  },
  "language_info": {
   "codemirror_mode": {
    "name": "ipython",
    "version": 2
   },
   "file_extension": ".py",
   "mimetype": "text/x-python",
   "name": "python",
   "nbconvert_exporter": "python",
   "pygments_lexer": "ipython2",
   "version": "2.7.6"
  }
 },
 "nbformat": 4,
 "nbformat_minor": 0
}

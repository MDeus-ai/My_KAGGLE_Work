{
 "cells": [
  {
   "cell_type": "code",
   "execution_count": 46,
   "metadata": {
    "collapsed": true,
    "ExecuteTime": {
     "end_time": "2024-09-25T07:37:50.470360800Z",
     "start_time": "2024-09-25T07:37:50.462360800Z"
    }
   },
   "outputs": [],
   "source": [
    "# Importing Base Libraries\n",
    "import pandas as pd\n",
    "import numpy as np\n",
    "import matplotlib.pyplot as plt\n",
    "import seaborn as sns\n",
    "sns.set()"
   ]
  },
  {
   "cell_type": "code",
   "execution_count": 47,
   "outputs": [],
   "source": [
    "train = pd.read_csv('../datasets/train.csv')\n",
    "test = pd.read_csv('../datasets/test.csv')"
   ],
   "metadata": {
    "collapsed": false,
    "ExecuteTime": {
     "end_time": "2024-09-25T07:37:51.912964600Z",
     "start_time": "2024-09-25T07:37:50.870399300Z"
    }
   }
  },
  {
   "cell_type": "markdown",
   "source": [
    "# DATA PREPROCESSING"
   ],
   "metadata": {
    "collapsed": false
   }
  },
  {
   "cell_type": "markdown",
   "source": [
    "## DATA CLEANING PIPLINE"
   ],
   "metadata": {
    "collapsed": false
   }
  },
  {
   "cell_type": "code",
   "execution_count": 100,
   "outputs": [
    {
     "name": "stdout",
     "output_type": "stream",
     "text": [
      "TRAIN DATA CLEANING PIPLINE...\n",
      "Missing Values Imputed...\n",
      "FEATURE: model_year, NUM OF OUTLIERS: 5132\n",
      "FEATURE: milage, NUM OF OUTLIERS: 1766\n",
      "FEATURE: price, NUM OF OUTLIERS: 10880\n",
      "TOTAL OUTLIERS REMOVED: 17326\n"
     ]
    },
    {
     "name": "stderr",
     "output_type": "stream",
     "text": [
      "C:\\Users\\deusm\\AppData\\Local\\Temp\\ipykernel_10432\\2600172909.py:43: FutureWarning: DataFrame.applymap has been deprecated. Use DataFrame.map instead.\n",
      "  clean_train = clean_step_2[~clean_step_2.applymap(lambda x: isinstance(x, str) and bool(pd.Series(x).str.contains(r'[^\\x00-\\x7F]').any())).any(axis=1)]\n"
     ]
    },
    {
     "name": "stdout",
     "output_type": "stream",
     "text": [
      "Removed Weird Symbols\n",
      "TEST DATA CLEANING PIPLINE...\n",
      "Missing Values Imputed...\n"
     ]
    },
    {
     "name": "stderr",
     "output_type": "stream",
     "text": [
      "C:\\Users\\deusm\\AppData\\Local\\Temp\\ipykernel_10432\\2600172909.py:62: FutureWarning: DataFrame.applymap has been deprecated. Use DataFrame.map instead.\n",
      "  clean_train = clean_step_2[~clean_step_2.applymap(lambda x: isinstance(x, str) and bool(pd.Series(x).str.contains(r'[^\\x00-\\x7F]').any())).any(axis=1)]\n"
     ]
    },
    {
     "name": "stdout",
     "output_type": "stream",
     "text": [
      "Removed Weird Symbols\n"
     ]
    }
   ],
   "source": [
    "from sklearn.ensemble import IsolationForest\n",
    "from sklearn.impute import SimpleImputer\n",
    "from sklearn.compose import ColumnTransformer\n",
    "\n",
    "def data_cleaning_pipline(data, is_test_data=False):\n",
    "    # General step\n",
    "    clean_step_1 = data.drop(['id', 'clean_title'], axis=1)\n",
    "\n",
    "    if not is_test_data:\n",
    "        print(\"TRAIN DATA CLEANING PIPLINE...\")\n",
    "        num_columns = clean_step_1.select_dtypes(include=np.number).columns\n",
    "        cat_columns = clean_step_1.select_dtypes(exclude=np.number).columns\n",
    "        imputer = ColumnTransformer([\n",
    "            ('cat_imputer', SimpleImputer(strategy='most_frequent'), cat_columns),\n",
    "            ('num_imputer', SimpleImputer(strategy='median'), num_columns)\n",
    "        ], remainder='drop')\n",
    "        clean_step_2 = pd.DataFrame(imputer.fit_transform(clean_step_1), columns=[*cat_columns, *num_columns])\n",
    "        # Ensure numerical columns are converted back to their original types\n",
    "        clean_step_2[num_columns] = clean_step_2[num_columns].apply(pd.to_numeric, errors='coerce')\n",
    "\n",
    "        print(\"Missing Values Imputed...\")\n",
    "\n",
    "        # Detecting And Removing Outliers From Data\n",
    "        outliers = pd.DataFrame() # An empty dataframe\n",
    "        for feature in num_columns:\n",
    "            q1, q3 = clean_step_2[feature].quantile(0.25), clean_step_2[feature].quantile(0.75)\n",
    "            iqr = q3 - q1\n",
    "            lower_bound = q1 - 1.5 * iqr\n",
    "            upper_bound = q3 + 1.5 * iqr\n",
    "            outliers_instances = clean_step_2[(clean_step_2[feature] < lower_bound) | (clean_step_2[feature] > upper_bound)]\n",
    "            outliers = pd.concat([outliers, outliers_instances]).drop_duplicates()\n",
    "            print(f\"FEATURE: {feature}, NUM OF OUTLIERS: {len(outliers_instances)}\")\n",
    "        clean_step_2 = clean_step_2.drop(outliers.index)\n",
    "        print(f\"TOTAL OUTLIERS REMOVED: {len(outliers)}\")\n",
    "\n",
    "        iso_forest = IsolationForest(contamination=0.19, random_state=42)\n",
    "        predictions = iso_forest.fit_predict(clean_step_2[num_columns])\n",
    "        # Outliers are marked as -1\n",
    "        outliers = clean_step_2[predictions == -1]\n",
    "        clean_step_2 = clean_step_2.drop(outliers.index)\n",
    "\n",
    "        # Removing weird symbols from the dataset\n",
    "        clean_train = clean_step_2[~clean_step_2.applymap(lambda x: isinstance(x, str) and bool(pd.Series(x).str.contains(r'[^\\x00-\\x7F]').any())).any(axis=1)]\n",
    "        print(\"Removed Weird Symbols\")\n",
    "\n",
    "        return clean_train\n",
    "\n",
    "    if is_test_data:\n",
    "        print(\"TEST DATA CLEANING PIPLINE...\")\n",
    "        num_columns = clean_step_1.select_dtypes(include=np.number).columns\n",
    "        cat_columns = clean_step_1.select_dtypes(exclude=np.number).columns\n",
    "        imputer = ColumnTransformer([\n",
    "            ('cat_imputer', SimpleImputer(strategy='most_frequent'), cat_columns),\n",
    "            ('num_imputer', SimpleImputer(strategy='median'), num_columns)\n",
    "        ], remainder='drop')\n",
    "        clean_step_2 = pd.DataFrame(imputer.fit_transform(clean_step_1), columns=[*cat_columns, *num_columns])\n",
    "        # Ensure numerical columns are converted back to their original types\n",
    "        clean_step_2[num_columns] = clean_step_2[num_columns].apply(pd.to_numeric, errors='coerce')\n",
    "        print(\"Missing Values Imputed...\")\n",
    "\n",
    "        # Removing weird symbols from the dataset\n",
    "        clean_train = clean_step_2[~clean_step_2.applymap(lambda x: isinstance(x, str) and bool(pd.Series(x).str.contains(r'[^\\x00-\\x7F]').any())).any(axis=1)]\n",
    "        print(\"Removed Weird Symbols\")\n",
    "\n",
    "        return clean_train\n",
    "\n",
    "\n",
    "cleaned_train = data_cleaning_pipline(train, is_test_data=False)\n",
    "cleaned_test = data_cleaning_pipline(test, is_test_data=True)"
   ],
   "metadata": {
    "collapsed": false,
    "ExecuteTime": {
     "end_time": "2024-09-25T08:31:12.899281400Z",
     "start_time": "2024-09-25T08:24:37.404281200Z"
    }
   }
  },
  {
   "cell_type": "markdown",
   "source": [
    "## IDENTIFYING HIGH CARDINALITY CATEGORICAL VARIABLES"
   ],
   "metadata": {
    "collapsed": false
   }
  },
  {
   "cell_type": "code",
   "execution_count": 102,
   "outputs": [
    {
     "data": {
      "text/plain": "<Figure size 640x480 with 1 Axes>",
      "image/png": "[encoded data removed]"
     },
     "metadata": {},
     "output_type": "display_data"
    }
   ],
   "source": [
    "# Cardinality- Number of unique data per feature or categorical variable\n",
    "sns.barplot(cleaned_train.select_dtypes(exclude=np.number).nunique(), color='green')\n",
    "plt.xticks(rotation=90)\n",
    "plt.title('CARDINALITY PER CATEGORICAL VARIABLE')\n",
    "plt.show()"
   ],
   "metadata": {
    "collapsed": false,
    "ExecuteTime": {
     "end_time": "2024-09-25T08:32:45.324239800Z",
     "start_time": "2024-09-25T08:32:45.012061200Z"
    }
   }
  },
  {
   "cell_type": "code",
   "execution_count": 111,
   "outputs": [
    {
     "data": {
      "text/plain": "engine\n355.0HP 5.3L 8 Cylinder Engine Gasoline Fuel     2966\n240.0HP 2.0L 4 Cylinder Engine Gasoline Fuel     2596\n2.0L I4 16V GDI DOHC Turbo                       2277\n420.0HP 6.2L 8 Cylinder Engine Gasoline Fuel     2237\n340.0HP 3.0L V6 Cylinder Engine Gasoline Fuel    2223\n                                                 ... \n290.0HP 7.4L 8 Cylinder Engine Gasoline Fuel        1\n3.2L H6 24V MPFI DOHC                               1\n70.0HP 1.0L 3 Cylinder Engine Gasoline Fuel         1\n150.0HP 2.7L 4 Cylinder Engine Gasoline Fuel        1\n443.0HP 4.4L 8 Cylinder Engine Gasoline Fuel        1\nName: count, Length: 1102, dtype: int64"
     },
     "execution_count": 111,
     "metadata": {},
     "output_type": "execute_result"
    }
   ],
   "source": [
    "cleaned_train['engine'].value_counts()"
   ],
   "metadata": {
    "collapsed": false,
    "ExecuteTime": {
     "end_time": "2024-09-25T08:35:28.285113200Z",
     "start_time": "2024-09-25T08:35:28.253752600Z"
    }
   }
  },
  {
   "cell_type": "code",
   "execution_count": 112,
   "outputs": [
    {
     "data": {
      "text/plain": "engine\n355.0HP 5.3L 8 Cylinder Engine Gasoline Fuel            2179\n240.0HP 2.0L 4 Cylinder Engine Gasoline Fuel            1928\n420.0HP 6.2L 8 Cylinder Engine Gasoline Fuel            1847\n2.0L I4 16V GDI DOHC Turbo                              1795\n375.0HP 3.5L V6 Cylinder Engine Gasoline Fuel           1572\n                                                        ... \n111.2Ah / FR 70kW / RR 160kW (697V)                        1\n3.2L V6 18V MPFI SOHC                                      1\n266.0HP 2.5L 4 Cylinder Engine Plug-In Electric/Gas        1\n275.0HP 3.5L V6 Cylinder Engine Flex Fuel Capability       1\n226.0HP 1.6L 4 Cylinder Engine Gas/Electric Hybrid         1\nName: count, Length: 1116, dtype: int64"
     },
     "execution_count": 112,
     "metadata": {},
     "output_type": "execute_result"
    }
   ],
   "source": [
    "cleaned_test['engine'].value_counts()"
   ],
   "metadata": {
    "collapsed": false,
    "ExecuteTime": {
     "end_time": "2024-09-25T08:35:32.854052Z",
     "start_time": "2024-09-25T08:35:32.841750300Z"
    }
   }
  },
  {
   "cell_type": "code",
   "execution_count": 117,
   "outputs": [],
   "source": [
    "# COMBINING LESS FREQUENT CATEGORIES TOGETHER\n",
    "def combiner(train_data, test_data, categorical_features, threshold, stats=None, drop_original=None):\n",
    "    \"\"\"A function that combines less frequent features\n",
    "    whose normalized frequency is less than the threshold\n",
    "    in categorical variables\"\"\"\n",
    "    for feature in categorical_features:\n",
    "        print(\">> \" + feature.upper())\n",
    "        print(f'train_CARDINALITY BEFORE: {train_data[feature].nunique()}')\n",
    "        print(f'test_CARDINALITY BEFORE: {test_data[feature].nunique()}')\n",
    "        cat_freq = train_data[feature].value_counts(normalize=True)\n",
    "        cat_to_keep = cat_freq[cat_freq >= threshold].index\n",
    "        train_data[feature + '_group'] = train_data[feature].where(train_data[feature].isin(cat_to_keep), 'Other')\n",
    "        test_data[feature + '_group'] = test_data[feature].where(test_data[feature].isin(cat_to_keep), 'Other')\n",
    "        print(f'train_CARDINALITY AFTER: {train_data[feature + \"_group\"].nunique()}')\n",
    "        print(f'train_CARDINALITY AFTER: {test_data[feature + \"_group\"].nunique()}')\n",
    "        if stats:\n",
    "            print('\\n\\n')\n",
    "            print(cat_freq)\n",
    "        if drop_original:\n",
    "            train_data = train_data.drop([feature], axis=1)\n",
    "            test_data = test_data.drop([feature], axis=1)\n",
    "    return train_data, test_data"
   ],
   "metadata": {
    "collapsed": false,
    "ExecuteTime": {
     "end_time": "2024-09-25T08:48:25.607345800Z",
     "start_time": "2024-09-25T08:48:25.590549800Z"
    }
   }
  },
  {
   "cell_type": "code",
   "execution_count": 118,
   "outputs": [
    {
     "name": "stdout",
     "output_type": "stream",
     "text": [
      ">> BRAND\n",
      "train_CARDINALITY BEFORE: 55\n",
      "test_CARDINALITY BEFORE: 55\n",
      "train_CARDINALITY AFTER: 25\n",
      "train_CARDINALITY AFTER: 25\n",
      ">> MODEL\n",
      "train_CARDINALITY BEFORE: 1881\n",
      "test_CARDINALITY BEFORE: 1888\n",
      "train_CARDINALITY AFTER: 3\n",
      "train_CARDINALITY AFTER: 3\n",
      ">> FUEL_TYPE\n",
      "train_CARDINALITY BEFORE: 6\n",
      "test_CARDINALITY BEFORE: 6\n",
      "train_CARDINALITY AFTER: 5\n",
      "train_CARDINALITY AFTER: 5\n",
      ">> ENGINE\n",
      "train_CARDINALITY BEFORE: 1102\n",
      "test_CARDINALITY BEFORE: 1116\n",
      "train_CARDINALITY AFTER: 15\n",
      "train_CARDINALITY AFTER: 15\n",
      ">> TRANSMISSION\n",
      "train_CARDINALITY BEFORE: 51\n",
      "test_CARDINALITY BEFORE: 51\n",
      "train_CARDINALITY AFTER: 16\n",
      "train_CARDINALITY AFTER: 16\n",
      ">> EXT_COL\n",
      "train_CARDINALITY BEFORE: 316\n",
      "test_CARDINALITY BEFORE: 316\n",
      "train_CARDINALITY AFTER: 7\n",
      "train_CARDINALITY AFTER: 7\n",
      ">> INT_COL\n",
      "train_CARDINALITY BEFORE: 155\n",
      "test_CARDINALITY BEFORE: 155\n",
      "train_CARDINALITY AFTER: 9\n",
      "train_CARDINALITY AFTER: 9\n",
      ">> ACCIDENT\n",
      "train_CARDINALITY BEFORE: 2\n",
      "test_CARDINALITY BEFORE: 2\n",
      "train_CARDINALITY AFTER: 2\n",
      "train_CARDINALITY AFTER: 2\n",
      ">> BRAND_GROUP\n",
      "train_CARDINALITY BEFORE: 25\n",
      "test_CARDINALITY BEFORE: 25\n",
      "train_CARDINALITY AFTER: 25\n",
      "train_CARDINALITY AFTER: 25\n"
     ]
    }
   ],
   "source": [
    "cleaned_train1, cleaned_test1 = combiner(train_data=cleaned_train, test_data=cleaned_test, categorical_features=cleaned_train.select_dtypes(exclude=np.number).columns, threshold=0.01, drop_original=True)"
   ],
   "metadata": {
    "collapsed": false,
    "ExecuteTime": {
     "end_time": "2024-09-25T08:48:27.034399700Z",
     "start_time": "2024-09-25T08:48:26.214795800Z"
    }
   }
  },
  {
   "cell_type": "code",
   "execution_count": 134,
   "outputs": [
    {
     "data": {
      "text/plain": "                brand                     model      fuel_type  \\\n3             Genesis          G90 5.0 Ultimate       Gasoline   \n6                Audi                 A8 L 3.0T       Gasoline   \n7           Chevrolet        Silverado 1500 1LZ  E85 Flex Fuel   \n8                Ford                 F-150 XLT       Gasoline   \n9                 BMW                   M4 Base       Gasoline   \n...               ...                       ...            ...   \n188528       Cadillac     Escalade ESV Platinum       Gasoline   \n188529  Mercedes-Benz  AMG C 43 AMG C 43 4MATIC       Gasoline   \n188530  Mercedes-Benz    AMG GLC 63 Base 4MATIC       Gasoline   \n188531           Audi          S5 3.0T Prestige       Gasoline   \n188532        Porsche                Macan Base       Gasoline   \n\n                                                   engine  \\\n3            420.0HP 5.0L 8 Cylinder Engine Gasoline Fuel   \n6           333.0HP 3.0L V6 Cylinder Engine Gasoline Fuel   \n7       355.0HP 5.3L 8 Cylinder Engine Flex Fuel Capab...   \n8                         2.7L V6 24V PDI DOHC Twin Turbo   \n9       425.0HP 3.0L Straight 6 Cylinder Engine Gasoli...   \n...                                                   ...   \n188528       420.0HP 6.2L 8 Cylinder Engine Gasoline Fuel   \n188529      385.0HP 3.0L V6 Cylinder Engine Gasoline Fuel   \n188530       469.0HP 4.0L 8 Cylinder Engine Gasoline Fuel   \n188531                                               3.0L   \n188532       252.0HP 2.0L 4 Cylinder Engine Gasoline Fuel   \n\n                          transmission                         ext_col  \\\n3       Transmission w/Dual Shift Mode                           Black   \n6                          8-Speed A/T                           Black   \n7                                  A/T                           White   \n8                   10-Speed Automatic  Snowflake White Pearl Metallic   \n9       Transmission w/Dual Shift Mode                           Black   \n...                                ...                             ...   \n188528  Transmission w/Dual Shift Mode                           White   \n188529                     8-Speed A/T                           White   \n188530                     7-Speed A/T                           White   \n188531               1-Speed Automatic       Daytona Gray Pearl Effect   \n188532  Transmission w/Dual Shift Mode                           White   \n\n       int_col                                accident  model_year    milage  \\\n3        Black                           None reported      2017.0   19500.0   \n6        Black                           None reported      2016.0   62200.0   \n7         Gray                           None reported      2016.0  102604.0   \n8        Black                           None reported      2020.0   38352.0   \n9         Blue                           None reported      2015.0   74850.0   \n...        ...                                     ...         ...       ...   \n188528   Beige                           None reported      2017.0   49000.0   \n188529   Black  At least 1 accident or damage reported      2018.0   28600.0   \n188530   Black                           None reported      2021.0   13650.0   \n188531   Black                           None reported      2022.0   13895.0   \n188532   Black                           None reported      2016.0   59500.0   \n\n          price    brand_group  \n3       45000.0          Other  \n6       28500.0           Audi  \n7       12500.0      Chevrolet  \n8       62890.0           Ford  \n9        4000.0            BMW  \n...         ...            ...  \n188528  27500.0       Cadillac  \n188529  30000.0  Mercedes-Benz  \n188530  86900.0  Mercedes-Benz  \n188531  84900.0           Audi  \n188532  28995.0        Porsche  \n\n[135084 rows x 12 columns]",
      "text/html": "<div>\n<style scoped>\n    .dataframe tbody tr th:only-of-type {\n        vertical-align: middle;\n    }\n\n    .dataframe tbody tr th {\n        vertical-align: top;\n    }\n\n    .dataframe thead th {\n        text-align: right;\n    }\n</style>\n<table border=\"1\" class=\"dataframe\">\n  <thead>\n    <tr style=\"text-align: right;\">\n      <th></th>\n      <th>brand</th>\n      <th>model</th>\n      <th>fuel_type</th>\n      <th>engine</th>\n      <th>transmission</th>\n      <th>ext_col</th>\n      <th>int_col</th>\n      <th>accident</th>\n      <th>model_year</th>\n      <th>milage</th>\n      <th>price</th>\n      <th>brand_group</th>\n    </tr>\n  </thead>\n  <tbody>\n    <tr>\n      <th>3</th>\n      <td>Genesis</td>\n      <td>G90 5.0 Ultimate</td>\n      <td>Gasoline</td>\n      <td>420.0HP 5.0L 8 Cylinder Engine Gasoline Fuel</td>\n      <td>Transmission w/Dual Shift Mode</td>\n      <td>Black</td>\n      <td>Black</td>\n      <td>None reported</td>\n      <td>2017.0</td>\n      <td>19500.0</td>\n      <td>45000.0</td>\n      <td>Other</td>\n    </tr>\n    <tr>\n      <th>6</th>\n      <td>Audi</td>\n      <td>A8 L 3.0T</td>\n      <td>Gasoline</td>\n      <td>333.0HP 3.0L V6 Cylinder Engine Gasoline Fuel</td>\n      <td>8-Speed A/T</td>\n      <td>Black</td>\n      <td>Black</td>\n      <td>None reported</td>\n      <td>2016.0</td>\n      <td>62200.0</td>\n      <td>28500.0</td>\n      <td>Audi</td>\n    </tr>\n    <tr>\n      <th>7</th>\n      <td>Chevrolet</td>\n      <td>Silverado 1500 1LZ</td>\n      <td>E85 Flex Fuel</td>\n      <td>355.0HP 5.3L 8 Cylinder Engine Flex Fuel Capab...</td>\n      <td>A/T</td>\n      <td>White</td>\n      <td>Gray</td>\n      <td>None reported</td>\n      <td>2016.0</td>\n      <td>102604.0</td>\n      <td>12500.0</td>\n      <td>Chevrolet</td>\n    </tr>\n    <tr>\n      <th>8</th>\n      <td>Ford</td>\n      <td>F-150 XLT</td>\n      <td>Gasoline</td>\n      <td>2.7L V6 24V PDI DOHC Twin Turbo</td>\n      <td>10-Speed Automatic</td>\n      <td>Snowflake White Pearl Metallic</td>\n      <td>Black</td>\n      <td>None reported</td>\n      <td>2020.0</td>\n      <td>38352.0</td>\n      <td>62890.0</td>\n      <td>Ford</td>\n    </tr>\n    <tr>\n      <th>9</th>\n      <td>BMW</td>\n      <td>M4 Base</td>\n      <td>Gasoline</td>\n      <td>425.0HP 3.0L Straight 6 Cylinder Engine Gasoli...</td>\n      <td>Transmission w/Dual Shift Mode</td>\n      <td>Black</td>\n      <td>Blue</td>\n      <td>None reported</td>\n      <td>2015.0</td>\n      <td>74850.0</td>\n      <td>4000.0</td>\n      <td>BMW</td>\n    </tr>\n    <tr>\n      <th>...</th>\n      <td>...</td>\n      <td>...</td>\n      <td>...</td>\n      <td>...</td>\n      <td>...</td>\n      <td>...</td>\n      <td>...</td>\n      <td>...</td>\n      <td>...</td>\n      <td>...</td>\n      <td>...</td>\n      <td>...</td>\n    </tr>\n    <tr>\n      <th>188528</th>\n      <td>Cadillac</td>\n      <td>Escalade ESV Platinum</td>\n      <td>Gasoline</td>\n      <td>420.0HP 6.2L 8 Cylinder Engine Gasoline Fuel</td>\n      <td>Transmission w/Dual Shift Mode</td>\n      <td>White</td>\n      <td>Beige</td>\n      <td>None reported</td>\n      <td>2017.0</td>\n      <td>49000.0</td>\n      <td>27500.0</td>\n      <td>Cadillac</td>\n    </tr>\n    <tr>\n      <th>188529</th>\n      <td>Mercedes-Benz</td>\n      <td>AMG C 43 AMG C 43 4MATIC</td>\n      <td>Gasoline</td>\n      <td>385.0HP 3.0L V6 Cylinder Engine Gasoline Fuel</td>\n      <td>8-Speed A/T</td>\n      <td>White</td>\n      <td>Black</td>\n      <td>At least 1 accident or damage reported</td>\n      <td>2018.0</td>\n      <td>28600.0</td>\n      <td>30000.0</td>\n      <td>Mercedes-Benz</td>\n    </tr>\n    <tr>\n      <th>188530</th>\n      <td>Mercedes-Benz</td>\n      <td>AMG GLC 63 Base 4MATIC</td>\n      <td>Gasoline</td>\n      <td>469.0HP 4.0L 8 Cylinder Engine Gasoline Fuel</td>\n      <td>7-Speed A/T</td>\n      <td>White</td>\n      <td>Black</td>\n      <td>None reported</td>\n      <td>2021.0</td>\n      <td>13650.0</td>\n      <td>86900.0</td>\n      <td>Mercedes-Benz</td>\n    </tr>\n    <tr>\n      <th>188531</th>\n      <td>Audi</td>\n      <td>S5 3.0T Prestige</td>\n      <td>Gasoline</td>\n      <td>3.0L</td>\n      <td>1-Speed Automatic</td>\n      <td>Daytona Gray Pearl Effect</td>\n      <td>Black</td>\n      <td>None reported</td>\n      <td>2022.0</td>\n      <td>13895.0</td>\n      <td>84900.0</td>\n      <td>Audi</td>\n    </tr>\n    <tr>\n      <th>188532</th>\n      <td>Porsche</td>\n      <td>Macan Base</td>\n      <td>Gasoline</td>\n      <td>252.0HP 2.0L 4 Cylinder Engine Gasoline Fuel</td>\n      <td>Transmission w/Dual Shift Mode</td>\n      <td>White</td>\n      <td>Black</td>\n      <td>None reported</td>\n      <td>2016.0</td>\n      <td>59500.0</td>\n      <td>28995.0</td>\n      <td>Porsche</td>\n    </tr>\n  </tbody>\n</table>\n<p>135084 rows × 12 columns</p>\n</div>"
     },
     "execution_count": 134,
     "metadata": {},
     "output_type": "execute_result"
    }
   ],
   "source": [
    "cleaned_train"
   ],
   "metadata": {
    "collapsed": false,
    "ExecuteTime": {
     "end_time": "2024-09-25T08:54:31.283174600Z",
     "start_time": "2024-09-25T08:54:31.251677Z"
    }
   }
  },
  {
   "cell_type": "markdown",
   "source": [
    "# DATA TRANSFORMATION PIPELINE"
   ],
   "metadata": {
    "collapsed": false
   }
  },
  {
   "cell_type": "code",
   "execution_count": 119,
   "outputs": [],
   "source": [
    "from sklearn.compose import ColumnTransformer\n",
    "from sklearn.preprocessing import StandardScaler\n",
    "from sklearn.preprocessing import OneHotEncoder\n",
    "\n",
    "# # Convert model_year To String\n",
    "# train['model_year'] = train['model_year'].astype(str)\n",
    "\n",
    "\n",
    "num_features = ['model_year', 'milage']\n",
    "\n",
    "transformer = ColumnTransformer([\n",
    "    ('cat', OneHotEncoder(sparse_output=False), cleaned_train1.select_dtypes(exclude=np.number).columns),\n",
    "    ('num', StandardScaler(), num_features)\n",
    "], remainder='drop')\n"
   ],
   "metadata": {
    "collapsed": false,
    "ExecuteTime": {
     "end_time": "2024-09-25T08:49:43.517638600Z",
     "start_time": "2024-09-25T08:49:43.482136900Z"
    }
   }
  },
  {
   "cell_type": "code",
   "execution_count": 120,
   "outputs": [],
   "source": [
    "# TRANSFORMING THE WHOLE DATASET\n",
    "transformed_train = transformer.fit_transform(cleaned_train1)\n",
    "transformed_test = transformer.fit_transform(cleaned_test1)"
   ],
   "metadata": {
    "collapsed": false,
    "ExecuteTime": {
     "end_time": "2024-09-25T08:49:49.521884200Z",
     "start_time": "2024-09-25T08:49:48.628665600Z"
    }
   }
  },
  {
   "cell_type": "code",
   "execution_count": 121,
   "outputs": [
    {
     "data": {
      "text/plain": "array([[ 0.        ,  0.        ,  1.        ,  0.        ,  0.        ,\n         1.        ,  0.        ,  0.        ,  0.        ,  0.        ,\n         0.        ,  0.        ,  0.        ,  0.        ,  0.        ,\n         0.        ,  0.        ,  0.        ,  0.        ,  0.        ,\n         0.        ,  0.        ,  1.        ,  0.        ,  0.        ,\n         0.        ,  0.        ,  0.        ,  0.        ,  0.        ,\n         0.        ,  0.        ,  0.        ,  0.        ,  0.        ,\n         0.        ,  0.        ,  0.        ,  1.        ,  1.        ,\n         0.        ,  0.        ,  0.        ,  0.        ,  0.        ,\n         0.        ,  0.        ,  1.        ,  0.        ,  0.        ,\n         0.        ,  0.        ,  0.        ,  0.        ,  0.        ,\n         0.        ,  1.        ,  0.        ,  0.        ,  0.        ,\n         0.        ,  0.        ,  0.        ,  0.        ,  0.        ,\n         0.        ,  0.        ,  0.        ,  0.        ,  0.        ,\n         0.        ,  0.        ,  0.        ,  0.        ,  0.        ,\n         1.        ,  0.        ,  0.        ,  0.        ,  0.        ,\n         0.        ,  0.        ,  0.04418414, -1.09664941],\n       [ 0.        ,  0.        ,  1.        ,  0.        ,  0.        ,\n         1.        ,  0.        ,  0.        ,  0.        ,  0.        ,\n         0.        ,  0.        ,  0.        ,  0.        ,  0.        ,\n         0.        ,  0.        ,  0.        ,  0.        ,  0.        ,\n         0.        ,  0.        ,  1.        ,  0.        ,  0.        ,\n         0.        ,  0.        ,  0.        ,  0.        ,  0.        ,\n         1.        ,  0.        ,  0.        ,  0.        ,  0.        ,\n         0.        ,  0.        ,  0.        ,  0.        ,  1.        ,\n         0.        ,  0.        ,  0.        ,  0.        ,  0.        ,\n         0.        ,  0.        ,  1.        ,  0.        ,  0.        ,\n         0.        ,  0.        ,  0.        ,  0.        ,  0.        ,\n         0.        ,  1.        ,  0.        ,  1.        ,  0.        ,\n         0.        ,  0.        ,  0.        ,  0.        ,  0.        ,\n         0.        ,  0.        ,  0.        ,  0.        ,  0.        ,\n         0.        ,  0.        ,  0.        ,  0.        ,  0.        ,\n         0.        ,  0.        ,  0.        ,  0.        ,  0.        ,\n         0.        ,  0.        , -0.20504628,  0.00340838],\n       [ 0.        ,  0.        ,  1.        ,  0.        ,  1.        ,\n         0.        ,  0.        ,  0.        ,  0.        ,  0.        ,\n         0.        ,  0.        ,  0.        ,  0.        ,  0.        ,\n         0.        ,  0.        ,  0.        ,  0.        ,  0.        ,\n         0.        ,  0.        ,  1.        ,  0.        ,  0.        ,\n         0.        ,  0.        ,  0.        ,  0.        ,  0.        ,\n         0.        ,  0.        ,  0.        ,  0.        ,  1.        ,\n         0.        ,  0.        ,  0.        ,  0.        ,  0.        ,\n         0.        ,  0.        ,  0.        ,  0.        ,  0.        ,\n         1.        ,  0.        ,  0.        ,  0.        ,  0.        ,\n         1.        ,  0.        ,  0.        ,  0.        ,  0.        ,\n         0.        ,  1.        ,  0.        ,  0.        ,  0.        ,\n         0.        ,  1.        ,  0.        ,  0.        ,  0.        ,\n         0.        ,  0.        ,  0.        ,  0.        ,  0.        ,\n         0.        ,  0.        ,  0.        ,  0.        ,  0.        ,\n         0.        ,  0.        ,  0.        ,  0.        ,  0.        ,\n         0.        ,  0.        , -0.20504628,  1.04431552],\n       [ 0.        ,  1.        ,  0.        ,  0.        ,  0.        ,\n         1.        ,  0.        ,  0.        ,  0.        ,  0.        ,\n         0.        ,  0.        ,  0.        ,  0.        ,  0.        ,\n         0.        ,  0.        ,  0.        ,  0.        ,  0.        ,\n         0.        ,  0.        ,  1.        ,  0.        ,  1.        ,\n         0.        ,  0.        ,  0.        ,  0.        ,  0.        ,\n         0.        ,  0.        ,  0.        ,  0.        ,  0.        ,\n         0.        ,  0.        ,  0.        ,  0.        ,  0.        ,\n         0.        ,  0.        ,  1.        ,  0.        ,  0.        ,\n         0.        ,  0.        ,  1.        ,  0.        ,  0.        ,\n         0.        ,  0.        ,  0.        ,  0.        ,  0.        ,\n         0.        ,  1.        ,  0.        ,  0.        ,  0.        ,\n         0.        ,  0.        ,  0.        ,  1.        ,  0.        ,\n         0.        ,  0.        ,  0.        ,  0.        ,  0.        ,\n         0.        ,  0.        ,  0.        ,  0.        ,  0.        ,\n         0.        ,  0.        ,  0.        ,  0.        ,  0.        ,\n         0.        ,  0.        ,  0.79187537, -0.61097518],\n       [ 0.        ,  0.        ,  1.        ,  0.        ,  0.        ,\n         1.        ,  0.        ,  0.        ,  0.        ,  0.        ,\n         0.        ,  0.        ,  0.        ,  0.        ,  0.        ,\n         0.        ,  0.        ,  0.        ,  0.        ,  0.        ,\n         1.        ,  0.        ,  0.        ,  0.        ,  0.        ,\n         0.        ,  0.        ,  0.        ,  0.        ,  0.        ,\n         0.        ,  0.        ,  0.        ,  0.        ,  0.        ,\n         0.        ,  0.        ,  0.        ,  1.        ,  1.        ,\n         0.        ,  0.        ,  0.        ,  0.        ,  0.        ,\n         0.        ,  0.        ,  0.        ,  0.        ,  0.        ,\n         0.        ,  0.        ,  1.        ,  0.        ,  0.        ,\n         0.        ,  1.        ,  0.        ,  0.        ,  1.        ,\n         0.        ,  0.        ,  0.        ,  0.        ,  0.        ,\n         0.        ,  0.        ,  0.        ,  0.        ,  0.        ,\n         0.        ,  0.        ,  0.        ,  0.        ,  0.        ,\n         0.        ,  0.        ,  0.        ,  0.        ,  0.        ,\n         0.        ,  0.        , -0.45427669,  0.32930372]])"
     },
     "execution_count": 121,
     "metadata": {},
     "output_type": "execute_result"
    }
   ],
   "source": [
    "transformed_train[0:5, :]"
   ],
   "metadata": {
    "collapsed": false,
    "ExecuteTime": {
     "end_time": "2024-09-25T08:49:51.657153700Z",
     "start_time": "2024-09-25T08:49:51.625448700Z"
    }
   }
  },
  {
   "cell_type": "code",
   "execution_count": 122,
   "outputs": [
    {
     "data": {
      "text/plain": "array([[ 0.        ,  0.        ,  1.        ,  0.        ,  0.        ,\n         1.        ,  0.        ,  0.        ,  0.        ,  1.        ,\n         0.        ,  0.        ,  0.        ,  0.        ,  0.        ,\n         0.        ,  0.        ,  0.        ,  0.        ,  0.        ,\n         0.        ,  0.        ,  0.        ,  0.        ,  0.        ,\n         0.        ,  1.        ,  0.        ,  0.        ,  0.        ,\n         0.        ,  0.        ,  0.        ,  0.        ,  0.        ,\n         0.        ,  0.        ,  0.        ,  0.        ,  0.        ,\n         0.        ,  0.        ,  0.        ,  0.        ,  0.        ,\n         1.        ,  1.        ,  0.        ,  0.        ,  0.        ,\n         0.        ,  0.        ,  0.        ,  0.        ,  0.        ,\n         0.        ,  1.        ,  0.        ,  0.        ,  0.        ,\n         0.        ,  0.        ,  0.        ,  0.        ,  0.        ,\n         0.        ,  0.        ,  0.        ,  0.        ,  1.        ,\n         0.        ,  0.        ,  0.        ,  0.        ,  0.        ,\n         0.        ,  0.        ,  0.        ,  0.        ,  0.        ,\n         0.        ,  0.        , -0.15489596,  0.64154432],\n       [ 0.        ,  0.        ,  1.        ,  0.        ,  0.        ,\n         0.        ,  1.        ,  0.        ,  0.        ,  0.        ,\n         0.        ,  0.        ,  0.        ,  0.        ,  0.        ,\n         0.        ,  0.        ,  0.        ,  0.        ,  0.        ,\n         0.        ,  0.        ,  1.        ,  0.        ,  0.        ,\n         0.        ,  0.        ,  0.        ,  0.        ,  0.        ,\n         1.        ,  0.        ,  0.        ,  0.        ,  0.        ,\n         0.        ,  0.        ,  0.        ,  0.        ,  0.        ,\n         0.        ,  0.        ,  0.        ,  0.        ,  1.        ,\n         0.        ,  0.        ,  1.        ,  0.        ,  0.        ,\n         0.        ,  0.        ,  0.        ,  0.        ,  0.        ,\n         0.        ,  1.        ,  0.        ,  0.        ,  0.        ,\n         0.        ,  0.        ,  0.        ,  0.        ,  0.        ,\n         0.        ,  0.        ,  0.        ,  0.        ,  1.        ,\n         0.        ,  0.        ,  0.        ,  0.        ,  0.        ,\n         0.        ,  0.        ,  0.        ,  0.        ,  0.        ,\n         0.        ,  0.        ,  0.74445331, -1.13426043],\n       [ 0.        ,  0.        ,  1.        ,  0.        ,  0.        ,\n         1.        ,  0.        ,  0.        ,  0.        ,  0.        ,\n         0.        ,  0.        ,  1.        ,  0.        ,  0.        ,\n         0.        ,  0.        ,  0.        ,  0.        ,  0.        ,\n         0.        ,  0.        ,  0.        ,  0.        ,  1.        ,\n         0.        ,  0.        ,  0.        ,  0.        ,  0.        ,\n         0.        ,  0.        ,  0.        ,  0.        ,  0.        ,\n         0.        ,  0.        ,  0.        ,  0.        ,  0.        ,\n         0.        ,  0.        ,  0.        ,  0.        ,  0.        ,\n         1.        ,  0.        ,  0.        ,  0.        ,  1.        ,\n         0.        ,  0.        ,  0.        ,  0.        ,  0.        ,\n         0.        ,  1.        ,  0.        ,  0.        ,  0.        ,\n         0.        ,  0.        ,  0.        ,  1.        ,  0.        ,\n         0.        ,  0.        ,  0.        ,  0.        ,  0.        ,\n         0.        ,  0.        ,  0.        ,  0.        ,  0.        ,\n         0.        ,  0.        ,  0.        ,  0.        ,  0.        ,\n         0.        ,  0.        ,  1.10419302, -0.75496989],\n       [ 0.        ,  0.        ,  1.        ,  0.        ,  0.        ,\n         1.        ,  0.        ,  0.        ,  0.        ,  0.        ,\n         0.        ,  0.        ,  0.        ,  0.        ,  0.        ,\n         0.        ,  0.        ,  0.        ,  0.        ,  0.        ,\n         0.        ,  0.        ,  1.        ,  0.        ,  0.        ,\n         0.        ,  0.        ,  0.        ,  0.        ,  0.        ,\n         0.        ,  0.        ,  0.        ,  0.        ,  0.        ,\n         1.        ,  0.        ,  0.        ,  0.        ,  0.        ,\n         0.        ,  0.        ,  1.        ,  0.        ,  0.        ,\n         0.        ,  0.        ,  1.        ,  0.        ,  0.        ,\n         0.        ,  0.        ,  0.        ,  0.        ,  0.        ,\n         0.        ,  1.        ,  0.        ,  1.        ,  0.        ,\n         0.        ,  0.        ,  0.        ,  0.        ,  0.        ,\n         0.        ,  0.        ,  0.        ,  0.        ,  0.        ,\n         0.        ,  0.        ,  0.        ,  0.        ,  0.        ,\n         0.        ,  0.        ,  0.        ,  0.        ,  0.        ,\n         0.        ,  0.        ,  0.0249739 , -0.09273529],\n       [ 0.        ,  0.        ,  1.        ,  0.        ,  0.        ,\n         1.        ,  0.        ,  0.        ,  0.        ,  0.        ,\n         0.        ,  0.        ,  0.        ,  0.        ,  0.        ,\n         0.        ,  0.        ,  0.        ,  0.        ,  0.        ,\n         0.        ,  0.        ,  1.        ,  0.        ,  0.        ,\n         0.        ,  0.        ,  0.        ,  0.        ,  0.        ,\n         0.        ,  0.        ,  0.        ,  0.        ,  1.        ,\n         0.        ,  0.        ,  0.        ,  0.        ,  0.        ,\n         0.        ,  1.        ,  0.        ,  0.        ,  0.        ,\n         0.        ,  0.        ,  1.        ,  0.        ,  0.        ,\n         0.        ,  0.        ,  0.        ,  0.        ,  0.        ,\n         0.        ,  1.        ,  0.        ,  1.        ,  0.        ,\n         0.        ,  0.        ,  0.        ,  0.        ,  0.        ,\n         0.        ,  0.        ,  0.        ,  0.        ,  0.        ,\n         0.        ,  0.        ,  0.        ,  0.        ,  0.        ,\n         0.        ,  0.        ,  0.        ,  0.        ,  0.        ,\n         0.        ,  0.        ,  0.3847136 , -0.13786086]])"
     },
     "execution_count": 122,
     "metadata": {},
     "output_type": "execute_result"
    }
   ],
   "source": [
    "transformed_test[0:5, :]"
   ],
   "metadata": {
    "collapsed": false,
    "ExecuteTime": {
     "end_time": "2024-09-25T08:49:53.018775100Z",
     "start_time": "2024-09-25T08:49:52.987692800Z"
    }
   }
  },
  {
   "cell_type": "markdown",
   "source": [
    "## X, y"
   ],
   "metadata": {
    "collapsed": false
   }
  },
  {
   "cell_type": "code",
   "execution_count": 135,
   "outputs": [],
   "source": [
    "X_train, y_train  = transformed_train, cleaned_train['price'].values"
   ],
   "metadata": {
    "collapsed": false,
    "ExecuteTime": {
     "end_time": "2024-09-25T08:55:13.555288400Z",
     "start_time": "2024-09-25T08:55:13.553275500Z"
    }
   }
  },
  {
   "cell_type": "code",
   "execution_count": 136,
   "outputs": [
    {
     "data": {
      "text/plain": "array([45000., 28500., 12500., ..., 86900., 84900., 28995.])"
     },
     "execution_count": 136,
     "metadata": {},
     "output_type": "execute_result"
    }
   ],
   "source": [
    "y_train"
   ],
   "metadata": {
    "collapsed": false,
    "ExecuteTime": {
     "end_time": "2024-09-25T08:55:14.093053Z",
     "start_time": "2024-09-25T08:55:14.090577300Z"
    }
   }
  },
  {
   "cell_type": "markdown",
   "source": [
    "# Model_1, XGBoost"
   ],
   "metadata": {
    "collapsed": false
   }
  },
  {
   "cell_type": "code",
   "execution_count": 137,
   "outputs": [],
   "source": [
    "from xgboost import XGBRegressor\n",
    "from sklearn.model_selection import cross_val_score\n",
    "from sklearn.metrics import make_scorer, mean_squared_error\n",
    "\n",
    "xgb = XGBRegressor()\n",
    "\n",
    "mse_scorer = make_scorer(mean_squared_error, greater_is_better=True)\n",
    "\n",
    "scores = cross_val_score(xgb, X_train, y_train,\n",
    "                         scoring=mse_scorer,\n",
    "                         cv=4, n_jobs=-1)"
   ],
   "metadata": {
    "collapsed": false,
    "ExecuteTime": {
     "end_time": "2024-09-25T08:55:29.452863600Z",
     "start_time": "2024-09-25T08:55:16.212123Z"
    }
   }
  },
  {
   "cell_type": "code",
   "execution_count": 138,
   "outputs": [
    {
     "name": "stdout",
     "output_type": "stream",
     "text": [
      "[10568.0809956  10550.92029073 10631.55879316 10569.77995907]\n"
     ]
    }
   ],
   "source": [
    "print(np.sqrt(scores))"
   ],
   "metadata": {
    "collapsed": false,
    "ExecuteTime": {
     "end_time": "2024-09-25T08:55:34.004801700Z",
     "start_time": "2024-09-25T08:55:33.989651300Z"
    }
   }
  },
  {
   "cell_type": "code",
   "execution_count": 139,
   "outputs": [
    {
     "data": {
      "text/plain": "XGBRegressor(base_score=None, booster=None, callbacks=None,\n             colsample_bylevel=None, colsample_bynode=None,\n             colsample_bytree=None, device=None, early_stopping_rounds=None,\n             enable_categorical=False, eval_metric=None, feature_types=None,\n             gamma=None, grow_policy=None, importance_type=None,\n             interaction_constraints=None, learning_rate=None, max_bin=None,\n             max_cat_threshold=None, max_cat_to_onehot=None,\n             max_delta_step=None, max_depth=None, max_leaves=None,\n             min_child_weight=None, missing=nan, monotone_constraints=None,\n             multi_strategy=None, n_estimators=None, n_jobs=None,\n             num_parallel_tree=None, random_state=None, ...)",
      "text/html": "<style>#sk-container-id-1 {\n  /* Definition of color scheme common for light and dark mode */\n  --sklearn-color-text: black;\n  --sklearn-color-line: gray;\n  /* Definition of color scheme for unfitted estimators */\n  --sklearn-color-unfitted-level-0: #fff5e6;\n  --sklearn-color-unfitted-level-1: #f6e4d2;\n  --sklearn-color-unfitted-level-2: #ffe0b3;\n  --sklearn-color-unfitted-level-3: chocolate;\n  /* Definition of color scheme for fitted estimators */\n  --sklearn-color-fitted-level-0: #f0f8ff;\n  --sklearn-color-fitted-level-1: #d4ebff;\n  --sklearn-color-fitted-level-2: #b3dbfd;\n  --sklearn-color-fitted-level-3: cornflowerblue;\n\n  /* Specific color for light theme */\n  --sklearn-color-text-on-default-background: var(--sg-text-color, var(--theme-code-foreground, var(--jp-content-font-color1, black)));\n  --sklearn-color-background: var(--sg-background-color, var(--theme-background, var(--jp-layout-color0, white)));\n  --sklearn-color-border-box: var(--sg-text-color, var(--theme-code-foreground, var(--jp-content-font-color1, black)));\n  --sklearn-color-icon: #696969;\n\n  @media (prefers-color-scheme: dark) {\n    /* Redefinition of color scheme for dark theme */\n    --sklearn-color-text-on-default-background: var(--sg-text-color, var(--theme-code-foreground, var(--jp-content-font-color1, white)));\n    --sklearn-color-background: var(--sg-background-color, var(--theme-background, var(--jp-layout-color0, #111)));\n    --sklearn-color-border-box: var(--sg-text-color, var(--theme-code-foreground, var(--jp-content-font-color1, white)));\n    --sklearn-color-icon: #878787;\n  }\n}\n\n#sk-container-id-1 {\n  color: var(--sklearn-color-text);\n}\n\n#sk-container-id-1 pre {\n  padding: 0;\n}\n\n#sk-container-id-1 input.sk-hidden--visually {\n  border: 0;\n  clip: rect(1px 1px 1px 1px);\n  clip: rect(1px, 1px, 1px, 1px);\n  height: 1px;\n  margin: -1px;\n  overflow: hidden;\n  padding: 0;\n  position: absolute;\n  width: 1px;\n}\n\n#sk-container-id-1 div.sk-dashed-wrapped {\n  border: 1px dashed var(--sklearn-color-line);\n  margin: 0 0.4em 0.5em 0.4em;\n  box-sizing: border-box;\n  padding-bottom: 0.4em;\n  background-color: var(--sklearn-color-background);\n}\n\n#sk-container-id-1 div.sk-container {\n  /* jupyter's `normalize.less` sets `[hidden] { display: none; }`\n     but bootstrap.min.css set `[hidden] { display: none !important; }`\n     so we also need the `!important` here to be able to override the\n     default hidden behavior on the sphinx rendered scikit-learn.org.\n     See: https://github.com/scikit-learn/scikit-learn/issues/21755 */\n  display: inline-block !important;\n  position: relative;\n}\n\n#sk-container-id-1 div.sk-text-repr-fallback {\n  display: none;\n}\n\ndiv.sk-parallel-item,\ndiv.sk-serial,\ndiv.sk-item {\n  /* draw centered vertical line to link estimators */\n  background-image: linear-gradient(var(--sklearn-color-text-on-default-background), var(--sklearn-color-text-on-default-background));\n  background-size: 2px 100%;\n  background-repeat: no-repeat;\n  background-position: center center;\n}\n\n/* Parallel-specific style estimator block */\n\n#sk-container-id-1 div.sk-parallel-item::after {\n  content: \"\";\n  width: 100%;\n  border-bottom: 2px solid var(--sklearn-color-text-on-default-background);\n  flex-grow: 1;\n}\n\n#sk-container-id-1 div.sk-parallel {\n  display: flex;\n  align-items: stretch;\n  justify-content: center;\n  background-color: var(--sklearn-color-background);\n  position: relative;\n}\n\n#sk-container-id-1 div.sk-parallel-item {\n  display: flex;\n  flex-direction: column;\n}\n\n#sk-container-id-1 div.sk-parallel-item:first-child::after {\n  align-self: flex-end;\n  width: 50%;\n}\n\n#sk-container-id-1 div.sk-parallel-item:last-child::after {\n  align-self: flex-start;\n  width: 50%;\n}\n\n#sk-container-id-1 div.sk-parallel-item:only-child::after {\n  width: 0;\n}\n\n/* Serial-specific style estimator block */\n\n#sk-container-id-1 div.sk-serial {\n  display: flex;\n  flex-direction: column;\n  align-items: center;\n  background-color: var(--sklearn-color-background);\n  padding-right: 1em;\n  padding-left: 1em;\n}\n\n\n/* Toggleable style: style used for estimator/Pipeline/ColumnTransformer box that is\nclickable and can be expanded/collapsed.\n- Pipeline and ColumnTransformer use this feature and define the default style\n- Estimators will overwrite some part of the style using the `sk-estimator` class\n*/\n\n/* Pipeline and ColumnTransformer style (default) */\n\n#sk-container-id-1 div.sk-toggleable {\n  /* Default theme specific background. It is overwritten whether we have a\n  specific estimator or a Pipeline/ColumnTransformer */\n  background-color: var(--sklearn-color-background);\n}\n\n/* Toggleable label */\n#sk-container-id-1 label.sk-toggleable__label {\n  cursor: pointer;\n  display: block;\n  width: 100%;\n  margin-bottom: 0;\n  padding: 0.5em;\n  box-sizing: border-box;\n  text-align: center;\n}\n\n#sk-container-id-1 label.sk-toggleable__label-arrow:before {\n  /* Arrow on the left of the label */\n  content: \"▸\";\n  float: left;\n  margin-right: 0.25em;\n  color: var(--sklearn-color-icon);\n}\n\n#sk-container-id-1 label.sk-toggleable__label-arrow:hover:before {\n  color: var(--sklearn-color-text);\n}\n\n/* Toggleable content - dropdown */\n\n#sk-container-id-1 div.sk-toggleable__content {\n  max-height: 0;\n  max-width: 0;\n  overflow: hidden;\n  text-align: left;\n  /* unfitted */\n  background-color: var(--sklearn-color-unfitted-level-0);\n}\n\n#sk-container-id-1 div.sk-toggleable__content.fitted {\n  /* fitted */\n  background-color: var(--sklearn-color-fitted-level-0);\n}\n\n#sk-container-id-1 div.sk-toggleable__content pre {\n  margin: 0.2em;\n  border-radius: 0.25em;\n  color: var(--sklearn-color-text);\n  /* unfitted */\n  background-color: var(--sklearn-color-unfitted-level-0);\n}\n\n#sk-container-id-1 div.sk-toggleable__content.fitted pre {\n  /* unfitted */\n  background-color: var(--sklearn-color-fitted-level-0);\n}\n\n#sk-container-id-1 input.sk-toggleable__control:checked~div.sk-toggleable__content {\n  /* Expand drop-down */\n  max-height: 200px;\n  max-width: 100%;\n  overflow: auto;\n}\n\n#sk-container-id-1 input.sk-toggleable__control:checked~label.sk-toggleable__label-arrow:before {\n  content: \"▾\";\n}\n\n/* Pipeline/ColumnTransformer-specific style */\n\n#sk-container-id-1 div.sk-label input.sk-toggleable__control:checked~label.sk-toggleable__label {\n  color: var(--sklearn-color-text);\n  background-color: var(--sklearn-color-unfitted-level-2);\n}\n\n#sk-container-id-1 div.sk-label.fitted input.sk-toggleable__control:checked~label.sk-toggleable__label {\n  background-color: var(--sklearn-color-fitted-level-2);\n}\n\n/* Estimator-specific style */\n\n/* Colorize estimator box */\n#sk-container-id-1 div.sk-estimator input.sk-toggleable__control:checked~label.sk-toggleable__label {\n  /* unfitted */\n  background-color: var(--sklearn-color-unfitted-level-2);\n}\n\n#sk-container-id-1 div.sk-estimator.fitted input.sk-toggleable__control:checked~label.sk-toggleable__label {\n  /* fitted */\n  background-color: var(--sklearn-color-fitted-level-2);\n}\n\n#sk-container-id-1 div.sk-label label.sk-toggleable__label,\n#sk-container-id-1 div.sk-label label {\n  /* The background is the default theme color */\n  color: var(--sklearn-color-text-on-default-background);\n}\n\n/* On hover, darken the color of the background */\n#sk-container-id-1 div.sk-label:hover label.sk-toggleable__label {\n  color: var(--sklearn-color-text);\n  background-color: var(--sklearn-color-unfitted-level-2);\n}\n\n/* Label box, darken color on hover, fitted */\n#sk-container-id-1 div.sk-label.fitted:hover label.sk-toggleable__label.fitted {\n  color: var(--sklearn-color-text);\n  background-color: var(--sklearn-color-fitted-level-2);\n}\n\n/* Estimator label */\n\n#sk-container-id-1 div.sk-label label {\n  font-family: monospace;\n  font-weight: bold;\n  display: inline-block;\n  line-height: 1.2em;\n}\n\n#sk-container-id-1 div.sk-label-container {\n  text-align: center;\n}\n\n/* Estimator-specific */\n#sk-container-id-1 div.sk-estimator {\n  font-family: monospace;\n  border: 1px dotted var(--sklearn-color-border-box);\n  border-radius: 0.25em;\n  box-sizing: border-box;\n  margin-bottom: 0.5em;\n  /* unfitted */\n  background-color: var(--sklearn-color-unfitted-level-0);\n}\n\n#sk-container-id-1 div.sk-estimator.fitted {\n  /* fitted */\n  background-color: var(--sklearn-color-fitted-level-0);\n}\n\n/* on hover */\n#sk-container-id-1 div.sk-estimator:hover {\n  /* unfitted */\n  background-color: var(--sklearn-color-unfitted-level-2);\n}\n\n#sk-container-id-1 div.sk-estimator.fitted:hover {\n  /* fitted */\n  background-color: var(--sklearn-color-fitted-level-2);\n}\n\n/* Specification for estimator info (e.g. \"i\" and \"?\") */\n\n/* Common style for \"i\" and \"?\" */\n\n.sk-estimator-doc-link,\na:link.sk-estimator-doc-link,\na:visited.sk-estimator-doc-link {\n  float: right;\n  font-size: smaller;\n  line-height: 1em;\n  font-family: monospace;\n  background-color: var(--sklearn-color-background);\n  border-radius: 1em;\n  height: 1em;\n  width: 1em;\n  text-decoration: none !important;\n  margin-left: 1ex;\n  /* unfitted */\n  border: var(--sklearn-color-unfitted-level-1) 1pt solid;\n  color: var(--sklearn-color-unfitted-level-1);\n}\n\n.sk-estimator-doc-link.fitted,\na:link.sk-estimator-doc-link.fitted,\na:visited.sk-estimator-doc-link.fitted {\n  /* fitted */\n  border: var(--sklearn-color-fitted-level-1) 1pt solid;\n  color: var(--sklearn-color-fitted-level-1);\n}\n\n/* On hover */\ndiv.sk-estimator:hover .sk-estimator-doc-link:hover,\n.sk-estimator-doc-link:hover,\ndiv.sk-label-container:hover .sk-estimator-doc-link:hover,\n.sk-estimator-doc-link:hover {\n  /* unfitted */\n  background-color: var(--sklearn-color-unfitted-level-3);\n  color: var(--sklearn-color-background);\n  text-decoration: none;\n}\n\ndiv.sk-estimator.fitted:hover .sk-estimator-doc-link.fitted:hover,\n.sk-estimator-doc-link.fitted:hover,\ndiv.sk-label-container:hover .sk-estimator-doc-link.fitted:hover,\n.sk-estimator-doc-link.fitted:hover {\n  /* fitted */\n  background-color: var(--sklearn-color-fitted-level-3);\n  color: var(--sklearn-color-background);\n  text-decoration: none;\n}\n\n/* Span, style for the box shown on hovering the info icon */\n.sk-estimator-doc-link span {\n  display: none;\n  z-index: 9999;\n  position: relative;\n  font-weight: normal;\n  right: .2ex;\n  padding: .5ex;\n  margin: .5ex;\n  width: min-content;\n  min-width: 20ex;\n  max-width: 50ex;\n  color: var(--sklearn-color-text);\n  box-shadow: 2pt 2pt 4pt #999;\n  /* unfitted */\n  background: var(--sklearn-color-unfitted-level-0);\n  border: .5pt solid var(--sklearn-color-unfitted-level-3);\n}\n\n.sk-estimator-doc-link.fitted span {\n  /* fitted */\n  background: var(--sklearn-color-fitted-level-0);\n  border: var(--sklearn-color-fitted-level-3);\n}\n\n.sk-estimator-doc-link:hover span {\n  display: block;\n}\n\n/* \"?\"-specific style due to the `<a>` HTML tag */\n\n#sk-container-id-1 a.estimator_doc_link {\n  float: right;\n  font-size: 1rem;\n  line-height: 1em;\n  font-family: monospace;\n  background-color: var(--sklearn-color-background);\n  border-radius: 1rem;\n  height: 1rem;\n  width: 1rem;\n  text-decoration: none;\n  /* unfitted */\n  color: var(--sklearn-color-unfitted-level-1);\n  border: var(--sklearn-color-unfitted-level-1) 1pt solid;\n}\n\n#sk-container-id-1 a.estimator_doc_link.fitted {\n  /* fitted */\n  border: var(--sklearn-color-fitted-level-1) 1pt solid;\n  color: var(--sklearn-color-fitted-level-1);\n}\n\n/* On hover */\n#sk-container-id-1 a.estimator_doc_link:hover {\n  /* unfitted */\n  background-color: var(--sklearn-color-unfitted-level-3);\n  color: var(--sklearn-color-background);\n  text-decoration: none;\n}\n\n#sk-container-id-1 a.estimator_doc_link.fitted:hover {\n  /* fitted */\n  background-color: var(--sklearn-color-fitted-level-3);\n}\n</style><div id=\"sk-container-id-1\" class=\"sk-top-container\"><div class=\"sk-text-repr-fallback\"><pre>XGBRegressor(base_score=None, booster=None, callbacks=None,\n             colsample_bylevel=None, colsample_bynode=None,\n             colsample_bytree=None, device=None, early_stopping_rounds=None,\n             enable_categorical=False, eval_metric=None, feature_types=None,\n             gamma=None, grow_policy=None, importance_type=None,\n             interaction_constraints=None, learning_rate=None, max_bin=None,\n             max_cat_threshold=None, max_cat_to_onehot=None,\n             max_delta_step=None, max_depth=None, max_leaves=None,\n             min_child_weight=None, missing=nan, monotone_constraints=None,\n             multi_strategy=None, n_estimators=None, n_jobs=None,\n             num_parallel_tree=None, random_state=None, ...)</pre><b>In a Jupyter environment, please rerun this cell to show the HTML representation or trust the notebook. <br />On GitHub, the HTML representation is unable to render, please try loading this page with nbviewer.org.</b></div><div class=\"sk-container\" hidden><div class=\"sk-item\"><div class=\"sk-estimator fitted sk-toggleable\"><input class=\"sk-toggleable__control sk-hidden--visually\" id=\"sk-estimator-id-1\" type=\"checkbox\" checked><label for=\"sk-estimator-id-1\" class=\"sk-toggleable__label fitted sk-toggleable__label-arrow fitted\">&nbsp;XGBRegressor<span class=\"sk-estimator-doc-link fitted\">i<span>Fitted</span></span></label><div class=\"sk-toggleable__content fitted\"><pre>XGBRegressor(base_score=None, booster=None, callbacks=None,\n             colsample_bylevel=None, colsample_bynode=None,\n             colsample_bytree=None, device=None, early_stopping_rounds=None,\n             enable_categorical=False, eval_metric=None, feature_types=None,\n             gamma=None, grow_policy=None, importance_type=None,\n             interaction_constraints=None, learning_rate=None, max_bin=None,\n             max_cat_threshold=None, max_cat_to_onehot=None,\n             max_delta_step=None, max_depth=None, max_leaves=None,\n             min_child_weight=None, missing=nan, monotone_constraints=None,\n             multi_strategy=None, n_estimators=None, n_jobs=None,\n             num_parallel_tree=None, random_state=None, ...)</pre></div> </div></div></div></div>"
     },
     "execution_count": 139,
     "metadata": {},
     "output_type": "execute_result"
    }
   ],
   "source": [
    "xgb_model = XGBRegressor()\n",
    "xgb_model.fit(X_train, y_train)"
   ],
   "metadata": {
    "collapsed": false,
    "ExecuteTime": {
     "end_time": "2024-09-25T08:55:41.627783300Z",
     "start_time": "2024-09-25T08:55:39.717802100Z"
    }
   }
  },
  {
   "cell_type": "code",
   "execution_count": 140,
   "outputs": [],
   "source": [
    "pred = xgb_model.predict(transformed_test)"
   ],
   "metadata": {
    "collapsed": false,
    "ExecuteTime": {
     "end_time": "2024-09-25T08:56:18.970336600Z",
     "start_time": "2024-09-25T08:56:18.866255200Z"
    }
   }
  },
  {
   "cell_type": "code",
   "execution_count": 141,
   "outputs": [
    {
     "data": {
      "text/plain": "array([19974.74 , 47384.83 , 44596.11 , ..., 19352.87 , 16568.836,\n       33668.58 ], dtype=float32)"
     },
     "execution_count": 141,
     "metadata": {},
     "output_type": "execute_result"
    }
   ],
   "source": [
    "pred"
   ],
   "metadata": {
    "collapsed": false,
    "ExecuteTime": {
     "end_time": "2024-09-25T08:56:22.320338200Z",
     "start_time": "2024-09-25T08:56:22.310830400Z"
    }
   }
  },
  {
   "cell_type": "code",
   "execution_count": null,
   "outputs": [],
   "source": [],
   "metadata": {
    "collapsed": false
   }
  }
 ],
 "metadata": {
  "kernelspec": {
   "display_name": "Python 3",
   "language": "python",
   "name": "python3"
  },
  "language_info": {
   "codemirror_mode": {
    "name": "ipython",
    "version": 2
   },
   "file_extension": ".py",
   "mimetype": "text/x-python",
   "name": "python",
   "nbconvert_exporter": "python",
   "pygments_lexer": "ipython2",
   "version": "2.7.6"
  }
 },
 "nbformat": 4,
 "nbformat_minor": 0
}

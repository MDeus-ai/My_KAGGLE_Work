{
 "cells": [
  {
   "cell_type": "code",
   "execution_count": 1,
   "metadata": {
    "ExecuteTime": {
     "end_time": "2024-09-27T07:12:17.451214900Z",
     "start_time": "2024-09-27T07:12:17.269574900Z"
    }
   },
   "outputs": [],
   "source": [
    "# Importing Base Libraries\n",
    "import pandas as pd\n",
    "import numpy as np\n",
    "import matplotlib.pyplot as plt\n",
    "import seaborn as sns\n",
    "sns.set()"
   ]
  },
  {
   "cell_type": "code",
   "execution_count": 2,
   "metadata": {
    "ExecuteTime": {
     "end_time": "2024-09-27T07:12:18.191987800Z",
     "start_time": "2024-09-27T07:12:17.326210400Z"
    },
    "collapsed": false,
    "jupyter": {
     "outputs_hidden": false
    }
   },
   "outputs": [],
   "source": [
    "train = pd.read_csv('../datasets/train.csv')\n",
    "test = pd.read_csv('../datasets/test.csv')"
   ]
  },
  {
   "cell_type": "markdown",
   "metadata": {
    "collapsed": false,
    "jupyter": {
     "outputs_hidden": false
    }
   },
   "source": [
    "# DATA PREPROCESSING"
   ]
  },
  {
   "cell_type": "markdown",
   "metadata": {
    "collapsed": false,
    "jupyter": {
     "outputs_hidden": false
    }
   },
   "source": [
    "## DATA CLEANING PIPLINE"
   ]
  },
  {
   "cell_type": "code",
   "execution_count": 3,
   "metadata": {
    "ExecuteTime": {
     "end_time": "2024-09-27T07:19:20.024513800Z",
     "start_time": "2024-09-27T07:12:18.198527100Z"
    },
    "collapsed": false,
    "jupyter": {
     "outputs_hidden": false
    }
   },
   "outputs": [
    {
     "name": "stdout",
     "output_type": "stream",
     "text": [
      "TRAIN DATA CLEANING PIPLINE...\n",
      "Missing Values Imputed...\n",
      "FEATURE: model_year, NUM OF OUTLIERS: 5132\n",
      "FEATURE: milage, NUM OF OUTLIERS: 1766\n",
      "FEATURE: price, NUM OF OUTLIERS: 10880\n",
      "TOTAL OUTLIERS REMOVED: 17326\n"
     ]
    },
    {
     "name": "stderr",
     "output_type": "stream",
     "text": [
      "C:\\Users\\deusm\\AppData\\Local\\Temp\\ipykernel_19120\\766837012.py:43: FutureWarning: DataFrame.applymap has been deprecated. Use DataFrame.map instead.\n",
      "  clean_train = clean_step_2[~clean_step_2.applymap(lambda x: isinstance(x, str) and bool(pd.Series(x).str.contains(r'[^\\x00-\\x7F]').any())).any(axis=1)]\n"
     ]
    },
    {
     "name": "stdout",
     "output_type": "stream",
     "text": [
      "Removed Weird Symbols\n",
      "TEST DATA CLEANING PIPLINE...\n",
      "Missing Values Imputed...\n"
     ]
    },
    {
     "name": "stderr",
     "output_type": "stream",
     "text": [
      "C:\\Users\\deusm\\AppData\\Local\\Temp\\ipykernel_19120\\766837012.py:62: FutureWarning: DataFrame.applymap has been deprecated. Use DataFrame.map instead.\n",
      "  clean_train = clean_step_2[~clean_step_2.applymap(lambda x: isinstance(x, str) and bool(pd.Series(x).str.contains(r'[^\\x00-\\x7F]').any())).any(axis=1)]\n"
     ]
    },
    {
     "name": "stdout",
     "output_type": "stream",
     "text": [
      "Removed Weird Symbols\n"
     ]
    }
   ],
   "source": [
    "from sklearn.ensemble import IsolationForest\n",
    "from sklearn.impute import SimpleImputer\n",
    "from sklearn.compose import ColumnTransformer\n",
    "\n",
    "def data_cleaning_pipline(data, is_test_data=False):\n",
    "    # General step\n",
    "    clean_step_1 = data.drop(['id', 'clean_title'], axis=1)\n",
    "\n",
    "    if not is_test_data:\n",
    "        print(\"TRAIN DATA CLEANING PIPLINE...\")\n",
    "        num_columns = clean_step_1.select_dtypes(include=np.number).columns\n",
    "        cat_columns = clean_step_1.select_dtypes(exclude=np.number).columns\n",
    "        imputer = ColumnTransformer([\n",
    "            ('cat_imputer', SimpleImputer(strategy='most_frequent'), cat_columns),\n",
    "            ('num_imputer', SimpleImputer(strategy='median'), num_columns)\n",
    "        ], remainder='drop')\n",
    "        clean_step_2 = pd.DataFrame(imputer.fit_transform(clean_step_1), columns=[*cat_columns, *num_columns])\n",
    "        # Ensure numerical columns are converted back to their original types\n",
    "        clean_step_2[num_columns] = clean_step_2[num_columns].apply(pd.to_numeric, errors='coerce')\n",
    "\n",
    "        print(\"Missing Values Imputed...\")\n",
    "\n",
    "        # Detecting And Removing Outliers From Data\n",
    "        outliers = pd.DataFrame() # An empty dataframe\n",
    "        for feature in num_columns:\n",
    "            q1, q3 = clean_step_2[feature].quantile(0.25), clean_step_2[feature].quantile(0.75)\n",
    "            iqr = q3 - q1\n",
    "            lower_bound = q1 - 1.5 * iqr\n",
    "            upper_bound = q3 + 1.5 * iqr\n",
    "            outliers_instances = clean_step_2[(clean_step_2[feature] < lower_bound) | (clean_step_2[feature] > upper_bound)]\n",
    "            outliers = pd.concat([outliers, outliers_instances]).drop_duplicates()\n",
    "            print(f\"FEATURE: {feature}, NUM OF OUTLIERS: {len(outliers_instances)}\")\n",
    "        clean_step_2 = clean_step_2.drop(outliers.index)\n",
    "        print(f\"TOTAL OUTLIERS REMOVED: {len(outliers)}\")\n",
    "\n",
    "        iso_forest = IsolationForest(contamination=0.19, random_state=42)\n",
    "        predictions = iso_forest.fit_predict(clean_step_2[num_columns])\n",
    "        # Outliers are marked as -1\n",
    "        outliers = clean_step_2[predictions == -1]\n",
    "        clean_step_2 = clean_step_2.drop(outliers.index)\n",
    "\n",
    "        # Removing weird symbols from the dataset\n",
    "        clean_train = clean_step_2[~clean_step_2.applymap(lambda x: isinstance(x, str) and bool(pd.Series(x).str.contains(r'[^\\x00-\\x7F]').any())).any(axis=1)]\n",
    "        print(\"Removed Weird Symbols\")\n",
    "\n",
    "        return clean_train\n",
    "\n",
    "    if is_test_data:\n",
    "        print(\"TEST DATA CLEANING PIPLINE...\")\n",
    "        num_columns = clean_step_1.select_dtypes(include=np.number).columns\n",
    "        cat_columns = clean_step_1.select_dtypes(exclude=np.number).columns\n",
    "        imputer = ColumnTransformer([\n",
    "            ('cat_imputer', SimpleImputer(strategy='most_frequent'), cat_columns),\n",
    "            ('num_imputer', SimpleImputer(strategy='median'), num_columns)\n",
    "        ], remainder='drop')\n",
    "        clean_step_2 = pd.DataFrame(imputer.fit_transform(clean_step_1), columns=[*cat_columns, *num_columns])\n",
    "        # Ensure numerical columns are converted back to their original types\n",
    "        clean_step_2[num_columns] = clean_step_2[num_columns].apply(pd.to_numeric, errors='coerce')\n",
    "        print(\"Missing Values Imputed...\")\n",
    "\n",
    "        # Removing weird symbols from the dataset\n",
    "        clean_train = clean_step_2[~clean_step_2.applymap(lambda x: isinstance(x, str) and bool(pd.Series(x).str.contains(r'[^\\x00-\\x7F]').any())).any(axis=1)]\n",
    "        print(\"Removed Weird Symbols\")\n",
    "\n",
    "        return clean_train\n",
    "\n",
    "\n",
    "cleaned_train = data_cleaning_pipline(train, is_test_data=False)\n",
    "cleaned_test = data_cleaning_pipline(test, is_test_data=True)"
   ]
  },
  {
   "cell_type": "markdown",
   "metadata": {
    "collapsed": false,
    "jupyter": {
     "outputs_hidden": false
    }
   },
   "source": [
    "## IDENTIFYING HIGH CARDINALITY CATEGORICAL VARIABLES"
   ]
  },
  {
   "cell_type": "code",
   "execution_count": 4,
   "metadata": {
    "ExecuteTime": {
     "end_time": "2024-09-27T07:19:20.359986100Z",
     "start_time": "2024-09-27T07:19:20.034024Z"
    },
    "collapsed": false,
    "jupyter": {
     "outputs_hidden": false
    }
   },
   "outputs": [
    {
     "data": {
      "image/png": "[encoded data removed]",
      "text/plain": [
       "<Figure size 640x480 with 1 Axes>"
      ]
     },
     "metadata": {},
     "output_type": "display_data"
    }
   ],
   "source": [
    "# Cardinality- Number of unique data per feature or categorical variable\n",
    "sns.barplot(cleaned_train.select_dtypes(exclude=np.number).nunique(), color='green')\n",
    "plt.xticks(rotation=90)\n",
    "plt.title('CARDINALITY PER CATEGORICAL VARIABLE')\n",
    "plt.show()"
   ]
  },
  {
   "cell_type": "code",
   "execution_count": 5,
   "metadata": {
    "ExecuteTime": {
     "end_time": "2024-09-27T07:19:20.369991Z",
     "start_time": "2024-09-27T07:19:20.362490200Z"
    },
    "collapsed": false,
    "jupyter": {
     "outputs_hidden": false
    }
   },
   "outputs": [],
   "source": [
    "# COMBINING LESS FREQUENT CATEGORIES TOGETHER\n",
    "def combiner(train_data, test_data, categorical_features, threshold, stats=None, drop_original=None):\n",
    "    \"\"\"A function that combines less frequent features\n",
    "    whose normalized frequency is less than the threshold\n",
    "    in categorical variables\"\"\"\n",
    "    for feature in categorical_features:\n",
    "        print(\">> \" + feature.upper())\n",
    "        print(f'train_CARDINALITY BEFORE: {train_data[feature].nunique()}')\n",
    "        print(f'test_CARDINALITY BEFORE: {test_data[feature].nunique()}')\n",
    "        cat_freq = train_data[feature].value_counts(normalize=True)\n",
    "        cat_to_keep = cat_freq[cat_freq >= threshold].index\n",
    "        train_data[feature + '_group'] = train_data[feature].where(train_data[feature].isin(cat_to_keep), 'Other')\n",
    "        test_data[feature + '_group'] = test_data[feature].where(test_data[feature].isin(cat_to_keep), 'Other')\n",
    "        print(f'train_CARDINALITY AFTER: {train_data[feature + \"_group\"].nunique()}')\n",
    "        print(f'train_CARDINALITY AFTER: {test_data[feature + \"_group\"].nunique()}')\n",
    "        if stats:\n",
    "            print('\\n\\n')\n",
    "            print(cat_freq)\n",
    "        if drop_original:\n",
    "            train_data = train_data.drop([feature], axis=1)\n",
    "            test_data = test_data.drop([feature], axis=1)\n",
    "    return train_data, test_data"
   ]
  },
  {
   "cell_type": "code",
   "execution_count": 6,
   "metadata": {
    "ExecuteTime": {
     "end_time": "2024-09-27T07:19:21.082051700Z",
     "start_time": "2024-09-27T07:19:20.369991Z"
    },
    "collapsed": false,
    "jupyter": {
     "outputs_hidden": false
    }
   },
   "outputs": [
    {
     "name": "stdout",
     "output_type": "stream",
     "text": [
      ">> BRAND\n",
      "train_CARDINALITY BEFORE: 55\n",
      "test_CARDINALITY BEFORE: 55\n",
      "train_CARDINALITY AFTER: 25\n",
      "train_CARDINALITY AFTER: 25\n",
      ">> MODEL\n",
      "train_CARDINALITY BEFORE: 1881\n",
      "test_CARDINALITY BEFORE: 1888\n",
      "train_CARDINALITY AFTER: 3\n",
      "train_CARDINALITY AFTER: 3\n",
      ">> FUEL_TYPE\n",
      "train_CARDINALITY BEFORE: 6\n",
      "test_CARDINALITY BEFORE: 6\n",
      "train_CARDINALITY AFTER: 5\n",
      "train_CARDINALITY AFTER: 5\n",
      ">> ENGINE\n",
      "train_CARDINALITY BEFORE: 1102\n",
      "test_CARDINALITY BEFORE: 1116\n",
      "train_CARDINALITY AFTER: 15\n",
      "train_CARDINALITY AFTER: 15\n",
      ">> TRANSMISSION\n",
      "train_CARDINALITY BEFORE: 51\n",
      "test_CARDINALITY BEFORE: 51\n",
      "train_CARDINALITY AFTER: 16\n",
      "train_CARDINALITY AFTER: 16\n",
      ">> EXT_COL\n",
      "train_CARDINALITY BEFORE: 316\n",
      "test_CARDINALITY BEFORE: 316\n",
      "train_CARDINALITY AFTER: 7\n",
      "train_CARDINALITY AFTER: 7\n",
      ">> INT_COL\n",
      "train_CARDINALITY BEFORE: 155\n",
      "test_CARDINALITY BEFORE: 155\n",
      "train_CARDINALITY AFTER: 9\n",
      "train_CARDINALITY AFTER: 9\n",
      ">> ACCIDENT\n",
      "train_CARDINALITY BEFORE: 2\n",
      "test_CARDINALITY BEFORE: 2\n",
      "train_CARDINALITY AFTER: 2\n",
      "train_CARDINALITY AFTER: 2\n"
     ]
    }
   ],
   "source": [
    "cleaned_train1, cleaned_test1 = combiner(train_data=cleaned_train,\n",
    "                                         test_data=cleaned_test,\n",
    "                                         categorical_features=cleaned_train.select_dtypes(exclude=np.number).columns,\n",
    "                                         threshold=0.01, drop_original=True)"
   ]
  },
  {
   "cell_type": "code",
   "execution_count": 7,
   "metadata": {
    "ExecuteTime": {
     "end_time": "2024-09-27T07:19:21.097989600Z",
     "start_time": "2024-09-27T07:19:21.082051700Z"
    },
    "collapsed": false,
    "jupyter": {
     "outputs_hidden": false
    }
   },
   "outputs": [
    {
     "data": {
      "text/html": [
       "<div>\n",
       "<style scoped>\n",
       "    .dataframe tbody tr th:only-of-type {\n",
       "        vertical-align: middle;\n",
       "    }\n",
       "\n",
       "    .dataframe tbody tr th {\n",
       "        vertical-align: top;\n",
       "    }\n",
       "\n",
       "    .dataframe thead th {\n",
       "        text-align: right;\n",
       "    }\n",
       "</style>\n",
       "<table border=\"1\" class=\"dataframe\">\n",
       "  <thead>\n",
       "    <tr style=\"text-align: right;\">\n",
       "      <th></th>\n",
       "      <th>model_year</th>\n",
       "      <th>milage</th>\n",
       "      <th>price</th>\n",
       "      <th>brand_group</th>\n",
       "      <th>model_group</th>\n",
       "      <th>fuel_type_group</th>\n",
       "      <th>engine_group</th>\n",
       "      <th>transmission_group</th>\n",
       "      <th>ext_col_group</th>\n",
       "      <th>int_col_group</th>\n",
       "      <th>accident_group</th>\n",
       "    </tr>\n",
       "  </thead>\n",
       "  <tbody>\n",
       "    <tr>\n",
       "      <th>3</th>\n",
       "      <td>2017.0</td>\n",
       "      <td>19500.0</td>\n",
       "      <td>45000.0</td>\n",
       "      <td>Other</td>\n",
       "      <td>Other</td>\n",
       "      <td>Gasoline</td>\n",
       "      <td>Other</td>\n",
       "      <td>Transmission w/Dual Shift Mode</td>\n",
       "      <td>Black</td>\n",
       "      <td>Black</td>\n",
       "      <td>None reported</td>\n",
       "    </tr>\n",
       "    <tr>\n",
       "      <th>6</th>\n",
       "      <td>2016.0</td>\n",
       "      <td>62200.0</td>\n",
       "      <td>28500.0</td>\n",
       "      <td>Audi</td>\n",
       "      <td>Other</td>\n",
       "      <td>Gasoline</td>\n",
       "      <td>Other</td>\n",
       "      <td>8-Speed A/T</td>\n",
       "      <td>Black</td>\n",
       "      <td>Black</td>\n",
       "      <td>None reported</td>\n",
       "    </tr>\n",
       "    <tr>\n",
       "      <th>7</th>\n",
       "      <td>2016.0</td>\n",
       "      <td>102604.0</td>\n",
       "      <td>12500.0</td>\n",
       "      <td>Chevrolet</td>\n",
       "      <td>Other</td>\n",
       "      <td>E85 Flex Fuel</td>\n",
       "      <td>Other</td>\n",
       "      <td>A/T</td>\n",
       "      <td>White</td>\n",
       "      <td>Gray</td>\n",
       "      <td>None reported</td>\n",
       "    </tr>\n",
       "    <tr>\n",
       "      <th>8</th>\n",
       "      <td>2020.0</td>\n",
       "      <td>38352.0</td>\n",
       "      <td>62890.0</td>\n",
       "      <td>Ford</td>\n",
       "      <td>F-150 XLT</td>\n",
       "      <td>Gasoline</td>\n",
       "      <td>Other</td>\n",
       "      <td>10-Speed Automatic</td>\n",
       "      <td>Other</td>\n",
       "      <td>Black</td>\n",
       "      <td>None reported</td>\n",
       "    </tr>\n",
       "    <tr>\n",
       "      <th>9</th>\n",
       "      <td>2015.0</td>\n",
       "      <td>74850.0</td>\n",
       "      <td>4000.0</td>\n",
       "      <td>BMW</td>\n",
       "      <td>Other</td>\n",
       "      <td>Gasoline</td>\n",
       "      <td>425.0HP 3.0L Straight 6 Cylinder Engine Gasoli...</td>\n",
       "      <td>Transmission w/Dual Shift Mode</td>\n",
       "      <td>Black</td>\n",
       "      <td>Other</td>\n",
       "      <td>None reported</td>\n",
       "    </tr>\n",
       "  </tbody>\n",
       "</table>\n",
       "</div>"
      ],
      "text/plain": [
       "   model_year    milage    price brand_group model_group fuel_type_group  \\\n",
       "3      2017.0   19500.0  45000.0       Other       Other        Gasoline   \n",
       "6      2016.0   62200.0  28500.0        Audi       Other        Gasoline   \n",
       "7      2016.0  102604.0  12500.0   Chevrolet       Other   E85 Flex Fuel   \n",
       "8      2020.0   38352.0  62890.0        Ford   F-150 XLT        Gasoline   \n",
       "9      2015.0   74850.0   4000.0         BMW       Other        Gasoline   \n",
       "\n",
       "                                        engine_group  \\\n",
       "3                                              Other   \n",
       "6                                              Other   \n",
       "7                                              Other   \n",
       "8                                              Other   \n",
       "9  425.0HP 3.0L Straight 6 Cylinder Engine Gasoli...   \n",
       "\n",
       "               transmission_group ext_col_group int_col_group accident_group  \n",
       "3  Transmission w/Dual Shift Mode         Black         Black  None reported  \n",
       "6                     8-Speed A/T         Black         Black  None reported  \n",
       "7                             A/T         White          Gray  None reported  \n",
       "8              10-Speed Automatic         Other         Black  None reported  \n",
       "9  Transmission w/Dual Shift Mode         Black         Other  None reported  "
      ]
     },
     "execution_count": 7,
     "metadata": {},
     "output_type": "execute_result"
    }
   ],
   "source": [
    "cleaned_train1.head()"
   ]
  },
  {
   "cell_type": "markdown",
   "metadata": {
    "collapsed": false,
    "jupyter": {
     "outputs_hidden": false
    }
   },
   "source": [
    "# DATA TRANSFORMATION PIPELINE"
   ]
  },
  {
   "cell_type": "code",
   "execution_count": 8,
   "metadata": {
    "ExecuteTime": {
     "end_time": "2024-09-27T07:19:21.176217200Z",
     "start_time": "2024-09-27T07:19:21.097989600Z"
    },
    "collapsed": false,
    "jupyter": {
     "outputs_hidden": false
    }
   },
   "outputs": [],
   "source": [
    "from sklearn.compose import ColumnTransformer\n",
    "from sklearn.preprocessing import StandardScaler\n",
    "from sklearn.preprocessing import OneHotEncoder\n",
    "\n",
    "# # Convert model_year To String\n",
    "# train['model_year'] = train['model_year'].astype(str)\n",
    "\n",
    "\n",
    "num_features = ['model_year', 'milage']\n",
    "\n",
    "transformer = ColumnTransformer([\n",
    "    ('cat', OneHotEncoder(sparse_output=False), cleaned_train1.select_dtypes(exclude=np.number).columns),\n",
    "    ('num', StandardScaler(), num_features)\n",
    "], remainder='drop')\n"
   ]
  },
  {
   "cell_type": "code",
   "execution_count": 9,
   "metadata": {
    "ExecuteTime": {
     "end_time": "2024-09-27T07:19:21.795357900Z",
     "start_time": "2024-09-27T07:19:21.129350Z"
    },
    "collapsed": false,
    "jupyter": {
     "outputs_hidden": false
    }
   },
   "outputs": [],
   "source": [
    "# TRANSFORMING THE WHOLE DATASET\n",
    "transformed_train = transformer.fit_transform(cleaned_train1)\n",
    "transformed_test = transformer.fit_transform(cleaned_test1)"
   ]
  },
  {
   "cell_type": "markdown",
   "metadata": {
    "collapsed": false,
    "jupyter": {
     "outputs_hidden": false
    }
   },
   "source": [
    "# PREDICTIVE MODELS AND DIMENSIONALITY REDUCTION"
   ]
  },
  {
   "cell_type": "code",
   "execution_count": 11,
   "metadata": {
    "ExecuteTime": {
     "end_time": "2024-09-27T07:19:21.863955600Z",
     "start_time": "2024-09-27T07:19:21.818409900Z"
    },
    "collapsed": false,
    "jupyter": {
     "outputs_hidden": false
    }
   },
   "outputs": [],
   "source": [
    "import matplotlib.pyplot as plt\n",
    "import seaborn as sns\n",
    "from sklearn.decomposition import TruncatedSVD\n",
    "from sklearn.model_selection import KFold, cross_val_score\n",
    "from sklearn.pipeline import Pipeline\n",
    "\n",
    "\n",
    "def dim_selector(algorithm, n_dims_to_try, X, y, return_barplot=None):\n",
    "    \"\"\"A Function That Compares Model Performance With The Number Of Feature Dimension\n",
    "    Using Singular Value Decomposition Method Due To its Robustness With Sparse Data\"\"\"\n",
    "    models = dict()\n",
    "    model_scores = dict()\n",
    "\n",
    "    for component in range(1, n_dims_to_try):\n",
    "        model = Pipeline([\n",
    "            ('lda', TruncatedSVD(n_components=component)),\n",
    "            ('model', algorithm)\n",
    "        ])\n",
    "        models['model_' + str(component) + 'c'] = model\n",
    "\n",
    "    for name, model in models.items():\n",
    "        cv_ = KFold(n_splits=4)\n",
    "        scores = cross_val_score(model, X, y, scoring='neg_root_mean_squared_error', cv=cv_, n_jobs=-1)\n",
    "        model_scores[name] = np.mean(-scores)\n",
    "\n",
    "    if return_barplot:\n",
    "        sns.barplot(model_scores, color='green')\n",
    "        plt.title(\"Model Accuracies With Number Of Components\")\n",
    "        plt.xticks(rotation=90)\n",
    "        plt.ylabel(\"rmse\")\n",
    "        plt.xlabel(\"model trained on n features\")\n",
    "        plt.show()\n",
    "    else:\n",
    "        return model_scores\n",
    "\n"
   ]
  },
  {
   "cell_type": "markdown",
   "metadata": {
    "collapsed": false,
    "jupyter": {
     "outputs_hidden": false
    }
   },
   "source": [
    "## X, y"
   ]
  },
  {
   "cell_type": "code",
   "execution_count": 12,
   "metadata": {
    "ExecuteTime": {
     "end_time": "2024-09-27T07:19:21.863955600Z",
     "start_time": "2024-09-27T07:19:21.832148500Z"
    },
    "collapsed": false,
    "jupyter": {
     "outputs_hidden": false
    }
   },
   "outputs": [],
   "source": [
    "X_train, y_train  = transformed_train, cleaned_train['price'].values"
   ]
  },
  {
   "cell_type": "markdown",
   "metadata": {
    "collapsed": false,
    "jupyter": {
     "outputs_hidden": false
    }
   },
   "source": [
    "### CROSS VALIDATION FUNCTION"
   ]
  },
  {
   "cell_type": "code",
   "execution_count": 13,
   "metadata": {
    "ExecuteTime": {
     "end_time": "2024-09-27T07:19:21.863955600Z",
     "start_time": "2024-09-27T07:19:21.848029400Z"
    },
    "collapsed": false,
    "jupyter": {
     "outputs_hidden": false
    }
   },
   "outputs": [],
   "source": [
    "from sklearn.model_selection import cross_val_score\n",
    "from sklearn.pipeline import Pipeline\n",
    "from sklearn.decomposition import TruncatedSVD\n",
    "\n",
    "# CROSS VALIDATION FUNCTION\n",
    "def cross_validator(algorithm, xtrain, ytrain, n_components, cv):\n",
    "    \"\"\"A cross-validation function for comparing models train with\n",
    "    dimensionality reduction and without\"\"\"\n",
    "\n",
    "    print(\"MODEL RMSE SCORES\")\n",
    "    scores = cross_val_score(algorithm, xtrain, ytrain,\n",
    "                             scoring='neg_root_mean_squared_error',\n",
    "                             cv=cv, n_jobs=-1)\n",
    "    print(-scores)\n",
    "    print(\"\\nMODEL RMSE SCORES WITH DIMENSIONALITY REDUCTION\")\n",
    "    model_with_dim = Pipeline([\n",
    "        ('dim_reduction', TruncatedSVD(n_components=n_components)),\n",
    "        ('model', algorithm)\n",
    "    ])\n",
    "    scores_1 = cross_val_score(model_with_dim, xtrain, ytrain,\n",
    "                             scoring='neg_root_mean_squared_error',\n",
    "                             cv=cv, n_jobs=-1)\n",
    "    print(-scores_1)\n",
    "\n",
    "    # Conclusions\n",
    "    if np.mean(scores_1) > np.mean(scores):\n",
    "        print(\"Model Performed Better With Dim Reduction\")\n",
    "    else:\n",
    "        print(\"Model Performed Better Without Dim Reduction\")\n"
   ]
  },
  {
   "cell_type": "markdown",
   "metadata": {
    "collapsed": false,
    "jupyter": {
     "outputs_hidden": false
    }
   },
   "source": [
    "## MODEL SELECTION EXPERIMENTS"
   ]
  },
  {
   "cell_type": "code",
   "execution_count": 14,
   "metadata": {
    "ExecuteTime": {
     "end_time": "2024-09-27T07:20:08.445064500Z",
     "start_time": "2024-09-27T07:19:21.863955600Z"
    },
    "collapsed": false,
    "jupyter": {
     "outputs_hidden": false
    }
   },
   "outputs": [
    {
     "name": "stdout",
     "output_type": "stream",
     "text": [
      "MODEL RMSE SCORES\n",
      "[10567.40734729 10551.04279503 10631.50938255 10569.76763754]\n",
      "\n",
      "MODEL RMSE SCORES WITH DIMENSIONALITY REDUCTION\n",
      "[10811.44798009 10749.37674783 10828.96574668 10791.11845639]\n",
      "Model Performed Better Without Dim Reduction\n"
     ]
    }
   ],
   "source": [
    "from xgboost import XGBRegressor\n",
    "cross_validator(algorithm=XGBRegressor(), xtrain=X_train,\n",
    "                ytrain=y_train, n_components=84, cv=4)"
   ]
  },
  {
   "cell_type": "code",
   "execution_count": 16,
   "metadata": {
    "ExecuteTime": {
     "end_time": "2024-09-27T07:25:09.101291Z",
     "start_time": "2024-09-27T07:20:08.445064500Z"
    },
    "collapsed": false,
    "jupyter": {
     "outputs_hidden": false
    }
   },
   "outputs": [
    {
     "data": {
      "image/png": "[encoded data removed]",
      "text/plain": [
       "<Figure size 640x480 with 1 Axes>"
      ]
     },
     "metadata": {},
     "output_type": "display_data"
    }
   ],
   "source": [
    "# WITH DIMENSIONALITY REDUCTION\n",
    "dim_selector(algorithm=XGBRegressor(), n_dims_to_try=40, X=X_train, y=y_train, return_barplot=True)"
   ]
  },
  {
   "cell_type": "code",
   "execution_count": 17,
   "metadata": {
    "ExecuteTime": {
     "start_time": "2024-09-27T07:25:09.145502200Z"
    },
    "collapsed": false,
    "jupyter": {
     "outputs_hidden": false
    }
   },
   "outputs": [
    {
     "name": "stdout",
     "output_type": "stream",
     "text": [
      "MODEL RMSE SCORES\n",
      "[17400.17768785 17338.19886283 17368.08697519 17403.46434145]\n",
      "\n",
      "MODEL RMSE SCORES WITH DIMENSIONALITY REDUCTION\n",
      "[17391.20555108 17373.66181026 17392.9302139  17408.59317281]\n",
      "Model Performed Better Without Dim Reduction\n"
     ]
    }
   ],
   "source": [
    "# AN ENSEMBLE OF XGBOOST REGRESSORS\n",
    "from sklearn.ensemble import BaggingRegressor\n",
    "from sklearn.svm import SVR\n",
    "\n",
    "e_regressor = BaggingRegressor(\n",
    "    SVR(kernel='poly'),\n",
    "    n_estimators=5,\n",
    "    max_samples=5000, n_jobs=-1\n",
    ")\n",
    "\n",
    "cross_validator(e_regressor, xtrain=X_train, ytrain=y_train, n_components=40 ,cv=4)"
   ]
  },
  {
   "cell_type": "code",
   "execution_count": 18,
   "metadata": {
    "ExecuteTime": {
     "start_time": "2024-09-27T07:25:09.145502200Z"
    },
    "collapsed": false,
    "jupyter": {
     "outputs_hidden": false
    }
   },
   "outputs": [
    {
     "data": {
      "text/html": [
       "<style>#sk-container-id-1 {\n",
       "  /* Definition of color scheme common for light and dark mode */\n",
       "  --sklearn-color-text: black;\n",
       "  --sklearn-color-line: gray;\n",
       "  /* Definition of color scheme for unfitted estimators */\n",
       "  --sklearn-color-unfitted-level-0: #fff5e6;\n",
       "  --sklearn-color-unfitted-level-1: #f6e4d2;\n",
       "  --sklearn-color-unfitted-level-2: #ffe0b3;\n",
       "  --sklearn-color-unfitted-level-3: chocolate;\n",
       "  /* Definition of color scheme for fitted estimators */\n",
       "  --sklearn-color-fitted-level-0: #f0f8ff;\n",
       "  --sklearn-color-fitted-level-1: #d4ebff;\n",
       "  --sklearn-color-fitted-level-2: #b3dbfd;\n",
       "  --sklearn-color-fitted-level-3: cornflowerblue;\n",
       "\n",
       "  /* Specific color for light theme */\n",
       "  --sklearn-color-text-on-default-background: var(--sg-text-color, var(--theme-code-foreground, var(--jp-content-font-color1, black)));\n",
       "  --sklearn-color-background: var(--sg-background-color, var(--theme-background, var(--jp-layout-color0, white)));\n",
       "  --sklearn-color-border-box: var(--sg-text-color, var(--theme-code-foreground, var(--jp-content-font-color1, black)));\n",
       "  --sklearn-color-icon: #696969;\n",
       "\n",
       "  @media (prefers-color-scheme: dark) {\n",
       "    /* Redefinition of color scheme for dark theme */\n",
       "    --sklearn-color-text-on-default-background: var(--sg-text-color, var(--theme-code-foreground, var(--jp-content-font-color1, white)));\n",
       "    --sklearn-color-background: var(--sg-background-color, var(--theme-background, var(--jp-layout-color0, #111)));\n",
       "    --sklearn-color-border-box: var(--sg-text-color, var(--theme-code-foreground, var(--jp-content-font-color1, white)));\n",
       "    --sklearn-color-icon: #878787;\n",
       "  }\n",
       "}\n",
       "\n",
       "#sk-container-id-1 {\n",
       "  color: var(--sklearn-color-text);\n",
       "}\n",
       "\n",
       "#sk-container-id-1 pre {\n",
       "  padding: 0;\n",
       "}\n",
       "\n",
       "#sk-container-id-1 input.sk-hidden--visually {\n",
       "  border: 0;\n",
       "  clip: rect(1px 1px 1px 1px);\n",
       "  clip: rect(1px, 1px, 1px, 1px);\n",
       "  height: 1px;\n",
       "  margin: -1px;\n",
       "  overflow: hidden;\n",
       "  padding: 0;\n",
       "  position: absolute;\n",
       "  width: 1px;\n",
       "}\n",
       "\n",
       "#sk-container-id-1 div.sk-dashed-wrapped {\n",
       "  border: 1px dashed var(--sklearn-color-line);\n",
       "  margin: 0 0.4em 0.5em 0.4em;\n",
       "  box-sizing: border-box;\n",
       "  padding-bottom: 0.4em;\n",
       "  background-color: var(--sklearn-color-background);\n",
       "}\n",
       "\n",
       "#sk-container-id-1 div.sk-container {\n",
       "  /* jupyter's `normalize.less` sets `[hidden] { display: none; }`\n",
       "     but bootstrap.min.css set `[hidden] { display: none !important; }`\n",
       "     so we also need the `!important` here to be able to override the\n",
       "     default hidden behavior on the sphinx rendered scikit-learn.org.\n",
       "     See: https://github.com/scikit-learn/scikit-learn/issues/21755 */\n",
       "  display: inline-block !important;\n",
       "  position: relative;\n",
       "}\n",
       "\n",
       "#sk-container-id-1 div.sk-text-repr-fallback {\n",
       "  display: none;\n",
       "}\n",
       "\n",
       "div.sk-parallel-item,\n",
       "div.sk-serial,\n",
       "div.sk-item {\n",
       "  /* draw centered vertical line to link estimators */\n",
       "  background-image: linear-gradient(var(--sklearn-color-text-on-default-background), var(--sklearn-color-text-on-default-background));\n",
       "  background-size: 2px 100%;\n",
       "  background-repeat: no-repeat;\n",
       "  background-position: center center;\n",
       "}\n",
       "\n",
       "/* Parallel-specific style estimator block */\n",
       "\n",
       "#sk-container-id-1 div.sk-parallel-item::after {\n",
       "  content: \"\";\n",
       "  width: 100%;\n",
       "  border-bottom: 2px solid var(--sklearn-color-text-on-default-background);\n",
       "  flex-grow: 1;\n",
       "}\n",
       "\n",
       "#sk-container-id-1 div.sk-parallel {\n",
       "  display: flex;\n",
       "  align-items: stretch;\n",
       "  justify-content: center;\n",
       "  background-color: var(--sklearn-color-background);\n",
       "  position: relative;\n",
       "}\n",
       "\n",
       "#sk-container-id-1 div.sk-parallel-item {\n",
       "  display: flex;\n",
       "  flex-direction: column;\n",
       "}\n",
       "\n",
       "#sk-container-id-1 div.sk-parallel-item:first-child::after {\n",
       "  align-self: flex-end;\n",
       "  width: 50%;\n",
       "}\n",
       "\n",
       "#sk-container-id-1 div.sk-parallel-item:last-child::after {\n",
       "  align-self: flex-start;\n",
       "  width: 50%;\n",
       "}\n",
       "\n",
       "#sk-container-id-1 div.sk-parallel-item:only-child::after {\n",
       "  width: 0;\n",
       "}\n",
       "\n",
       "/* Serial-specific style estimator block */\n",
       "\n",
       "#sk-container-id-1 div.sk-serial {\n",
       "  display: flex;\n",
       "  flex-direction: column;\n",
       "  align-items: center;\n",
       "  background-color: var(--sklearn-color-background);\n",
       "  padding-right: 1em;\n",
       "  padding-left: 1em;\n",
       "}\n",
       "\n",
       "\n",
       "/* Toggleable style: style used for estimator/Pipeline/ColumnTransformer box that is\n",
       "clickable and can be expanded/collapsed.\n",
       "- Pipeline and ColumnTransformer use this feature and define the default style\n",
       "- Estimators will overwrite some part of the style using the `sk-estimator` class\n",
       "*/\n",
       "\n",
       "/* Pipeline and ColumnTransformer style (default) */\n",
       "\n",
       "#sk-container-id-1 div.sk-toggleable {\n",
       "  /* Default theme specific background. It is overwritten whether we have a\n",
       "  specific estimator or a Pipeline/ColumnTransformer */\n",
       "  background-color: var(--sklearn-color-background);\n",
       "}\n",
       "\n",
       "/* Toggleable label */\n",
       "#sk-container-id-1 label.sk-toggleable__label {\n",
       "  cursor: pointer;\n",
       "  display: block;\n",
       "  width: 100%;\n",
       "  margin-bottom: 0;\n",
       "  padding: 0.5em;\n",
       "  box-sizing: border-box;\n",
       "  text-align: center;\n",
       "}\n",
       "\n",
       "#sk-container-id-1 label.sk-toggleable__label-arrow:before {\n",
       "  /* Arrow on the left of the label */\n",
       "  content: \"▸\";\n",
       "  float: left;\n",
       "  margin-right: 0.25em;\n",
       "  color: var(--sklearn-color-icon);\n",
       "}\n",
       "\n",
       "#sk-container-id-1 label.sk-toggleable__label-arrow:hover:before {\n",
       "  color: var(--sklearn-color-text);\n",
       "}\n",
       "\n",
       "/* Toggleable content - dropdown */\n",
       "\n",
       "#sk-container-id-1 div.sk-toggleable__content {\n",
       "  max-height: 0;\n",
       "  max-width: 0;\n",
       "  overflow: hidden;\n",
       "  text-align: left;\n",
       "  /* unfitted */\n",
       "  background-color: var(--sklearn-color-unfitted-level-0);\n",
       "}\n",
       "\n",
       "#sk-container-id-1 div.sk-toggleable__content.fitted {\n",
       "  /* fitted */\n",
       "  background-color: var(--sklearn-color-fitted-level-0);\n",
       "}\n",
       "\n",
       "#sk-container-id-1 div.sk-toggleable__content pre {\n",
       "  margin: 0.2em;\n",
       "  border-radius: 0.25em;\n",
       "  color: var(--sklearn-color-text);\n",
       "  /* unfitted */\n",
       "  background-color: var(--sklearn-color-unfitted-level-0);\n",
       "}\n",
       "\n",
       "#sk-container-id-1 div.sk-toggleable__content.fitted pre {\n",
       "  /* unfitted */\n",
       "  background-color: var(--sklearn-color-fitted-level-0);\n",
       "}\n",
       "\n",
       "#sk-container-id-1 input.sk-toggleable__control:checked~div.sk-toggleable__content {\n",
       "  /* Expand drop-down */\n",
       "  max-height: 200px;\n",
       "  max-width: 100%;\n",
       "  overflow: auto;\n",
       "}\n",
       "\n",
       "#sk-container-id-1 input.sk-toggleable__control:checked~label.sk-toggleable__label-arrow:before {\n",
       "  content: \"▾\";\n",
       "}\n",
       "\n",
       "/* Pipeline/ColumnTransformer-specific style */\n",
       "\n",
       "#sk-container-id-1 div.sk-label input.sk-toggleable__control:checked~label.sk-toggleable__label {\n",
       "  color: var(--sklearn-color-text);\n",
       "  background-color: var(--sklearn-color-unfitted-level-2);\n",
       "}\n",
       "\n",
       "#sk-container-id-1 div.sk-label.fitted input.sk-toggleable__control:checked~label.sk-toggleable__label {\n",
       "  background-color: var(--sklearn-color-fitted-level-2);\n",
       "}\n",
       "\n",
       "/* Estimator-specific style */\n",
       "\n",
       "/* Colorize estimator box */\n",
       "#sk-container-id-1 div.sk-estimator input.sk-toggleable__control:checked~label.sk-toggleable__label {\n",
       "  /* unfitted */\n",
       "  background-color: var(--sklearn-color-unfitted-level-2);\n",
       "}\n",
       "\n",
       "#sk-container-id-1 div.sk-estimator.fitted input.sk-toggleable__control:checked~label.sk-toggleable__label {\n",
       "  /* fitted */\n",
       "  background-color: var(--sklearn-color-fitted-level-2);\n",
       "}\n",
       "\n",
       "#sk-container-id-1 div.sk-label label.sk-toggleable__label,\n",
       "#sk-container-id-1 div.sk-label label {\n",
       "  /* The background is the default theme color */\n",
       "  color: var(--sklearn-color-text-on-default-background);\n",
       "}\n",
       "\n",
       "/* On hover, darken the color of the background */\n",
       "#sk-container-id-1 div.sk-label:hover label.sk-toggleable__label {\n",
       "  color: var(--sklearn-color-text);\n",
       "  background-color: var(--sklearn-color-unfitted-level-2);\n",
       "}\n",
       "\n",
       "/* Label box, darken color on hover, fitted */\n",
       "#sk-container-id-1 div.sk-label.fitted:hover label.sk-toggleable__label.fitted {\n",
       "  color: var(--sklearn-color-text);\n",
       "  background-color: var(--sklearn-color-fitted-level-2);\n",
       "}\n",
       "\n",
       "/* Estimator label */\n",
       "\n",
       "#sk-container-id-1 div.sk-label label {\n",
       "  font-family: monospace;\n",
       "  font-weight: bold;\n",
       "  display: inline-block;\n",
       "  line-height: 1.2em;\n",
       "}\n",
       "\n",
       "#sk-container-id-1 div.sk-label-container {\n",
       "  text-align: center;\n",
       "}\n",
       "\n",
       "/* Estimator-specific */\n",
       "#sk-container-id-1 div.sk-estimator {\n",
       "  font-family: monospace;\n",
       "  border: 1px dotted var(--sklearn-color-border-box);\n",
       "  border-radius: 0.25em;\n",
       "  box-sizing: border-box;\n",
       "  margin-bottom: 0.5em;\n",
       "  /* unfitted */\n",
       "  background-color: var(--sklearn-color-unfitted-level-0);\n",
       "}\n",
       "\n",
       "#sk-container-id-1 div.sk-estimator.fitted {\n",
       "  /* fitted */\n",
       "  background-color: var(--sklearn-color-fitted-level-0);\n",
       "}\n",
       "\n",
       "/* on hover */\n",
       "#sk-container-id-1 div.sk-estimator:hover {\n",
       "  /* unfitted */\n",
       "  background-color: var(--sklearn-color-unfitted-level-2);\n",
       "}\n",
       "\n",
       "#sk-container-id-1 div.sk-estimator.fitted:hover {\n",
       "  /* fitted */\n",
       "  background-color: var(--sklearn-color-fitted-level-2);\n",
       "}\n",
       "\n",
       "/* Specification for estimator info (e.g. \"i\" and \"?\") */\n",
       "\n",
       "/* Common style for \"i\" and \"?\" */\n",
       "\n",
       ".sk-estimator-doc-link,\n",
       "a:link.sk-estimator-doc-link,\n",
       "a:visited.sk-estimator-doc-link {\n",
       "  float: right;\n",
       "  font-size: smaller;\n",
       "  line-height: 1em;\n",
       "  font-family: monospace;\n",
       "  background-color: var(--sklearn-color-background);\n",
       "  border-radius: 1em;\n",
       "  height: 1em;\n",
       "  width: 1em;\n",
       "  text-decoration: none !important;\n",
       "  margin-left: 1ex;\n",
       "  /* unfitted */\n",
       "  border: var(--sklearn-color-unfitted-level-1) 1pt solid;\n",
       "  color: var(--sklearn-color-unfitted-level-1);\n",
       "}\n",
       "\n",
       ".sk-estimator-doc-link.fitted,\n",
       "a:link.sk-estimator-doc-link.fitted,\n",
       "a:visited.sk-estimator-doc-link.fitted {\n",
       "  /* fitted */\n",
       "  border: var(--sklearn-color-fitted-level-1) 1pt solid;\n",
       "  color: var(--sklearn-color-fitted-level-1);\n",
       "}\n",
       "\n",
       "/* On hover */\n",
       "div.sk-estimator:hover .sk-estimator-doc-link:hover,\n",
       ".sk-estimator-doc-link:hover,\n",
       "div.sk-label-container:hover .sk-estimator-doc-link:hover,\n",
       ".sk-estimator-doc-link:hover {\n",
       "  /* unfitted */\n",
       "  background-color: var(--sklearn-color-unfitted-level-3);\n",
       "  color: var(--sklearn-color-background);\n",
       "  text-decoration: none;\n",
       "}\n",
       "\n",
       "div.sk-estimator.fitted:hover .sk-estimator-doc-link.fitted:hover,\n",
       ".sk-estimator-doc-link.fitted:hover,\n",
       "div.sk-label-container:hover .sk-estimator-doc-link.fitted:hover,\n",
       ".sk-estimator-doc-link.fitted:hover {\n",
       "  /* fitted */\n",
       "  background-color: var(--sklearn-color-fitted-level-3);\n",
       "  color: var(--sklearn-color-background);\n",
       "  text-decoration: none;\n",
       "}\n",
       "\n",
       "/* Span, style for the box shown on hovering the info icon */\n",
       ".sk-estimator-doc-link span {\n",
       "  display: none;\n",
       "  z-index: 9999;\n",
       "  position: relative;\n",
       "  font-weight: normal;\n",
       "  right: .2ex;\n",
       "  padding: .5ex;\n",
       "  margin: .5ex;\n",
       "  width: min-content;\n",
       "  min-width: 20ex;\n",
       "  max-width: 50ex;\n",
       "  color: var(--sklearn-color-text);\n",
       "  box-shadow: 2pt 2pt 4pt #999;\n",
       "  /* unfitted */\n",
       "  background: var(--sklearn-color-unfitted-level-0);\n",
       "  border: .5pt solid var(--sklearn-color-unfitted-level-3);\n",
       "}\n",
       "\n",
       ".sk-estimator-doc-link.fitted span {\n",
       "  /* fitted */\n",
       "  background: var(--sklearn-color-fitted-level-0);\n",
       "  border: var(--sklearn-color-fitted-level-3);\n",
       "}\n",
       "\n",
       ".sk-estimator-doc-link:hover span {\n",
       "  display: block;\n",
       "}\n",
       "\n",
       "/* \"?\"-specific style due to the `<a>` HTML tag */\n",
       "\n",
       "#sk-container-id-1 a.estimator_doc_link {\n",
       "  float: right;\n",
       "  font-size: 1rem;\n",
       "  line-height: 1em;\n",
       "  font-family: monospace;\n",
       "  background-color: var(--sklearn-color-background);\n",
       "  border-radius: 1rem;\n",
       "  height: 1rem;\n",
       "  width: 1rem;\n",
       "  text-decoration: none;\n",
       "  /* unfitted */\n",
       "  color: var(--sklearn-color-unfitted-level-1);\n",
       "  border: var(--sklearn-color-unfitted-level-1) 1pt solid;\n",
       "}\n",
       "\n",
       "#sk-container-id-1 a.estimator_doc_link.fitted {\n",
       "  /* fitted */\n",
       "  border: var(--sklearn-color-fitted-level-1) 1pt solid;\n",
       "  color: var(--sklearn-color-fitted-level-1);\n",
       "}\n",
       "\n",
       "/* On hover */\n",
       "#sk-container-id-1 a.estimator_doc_link:hover {\n",
       "  /* unfitted */\n",
       "  background-color: var(--sklearn-color-unfitted-level-3);\n",
       "  color: var(--sklearn-color-background);\n",
       "  text-decoration: none;\n",
       "}\n",
       "\n",
       "#sk-container-id-1 a.estimator_doc_link.fitted:hover {\n",
       "  /* fitted */\n",
       "  background-color: var(--sklearn-color-fitted-level-3);\n",
       "}\n",
       "</style><div id=\"sk-container-id-1\" class=\"sk-top-container\"><div class=\"sk-text-repr-fallback\"><pre>XGBRegressor(base_score=None, booster=None, callbacks=None,\n",
       "             colsample_bylevel=None, colsample_bynode=None,\n",
       "             colsample_bytree=None, device=None, early_stopping_rounds=None,\n",
       "             enable_categorical=False, eval_metric=None, feature_types=None,\n",
       "             gamma=None, grow_policy=None, importance_type=None,\n",
       "             interaction_constraints=None, learning_rate=None, max_bin=None,\n",
       "             max_cat_threshold=None, max_cat_to_onehot=None,\n",
       "             max_delta_step=None, max_depth=None, max_leaves=None,\n",
       "             min_child_weight=None, missing=nan, monotone_constraints=None,\n",
       "             multi_strategy=None, n_estimators=None, n_jobs=None,\n",
       "             num_parallel_tree=None, random_state=None, ...)</pre><b>In a Jupyter environment, please rerun this cell to show the HTML representation or trust the notebook. <br />On GitHub, the HTML representation is unable to render, please try loading this page with nbviewer.org.</b></div><div class=\"sk-container\" hidden><div class=\"sk-item\"><div class=\"sk-estimator fitted sk-toggleable\"><input class=\"sk-toggleable__control sk-hidden--visually\" id=\"sk-estimator-id-1\" type=\"checkbox\" checked><label for=\"sk-estimator-id-1\" class=\"sk-toggleable__label fitted sk-toggleable__label-arrow fitted\">&nbsp;XGBRegressor<span class=\"sk-estimator-doc-link fitted\">i<span>Fitted</span></span></label><div class=\"sk-toggleable__content fitted\"><pre>XGBRegressor(base_score=None, booster=None, callbacks=None,\n",
       "             colsample_bylevel=None, colsample_bynode=None,\n",
       "             colsample_bytree=None, device=None, early_stopping_rounds=None,\n",
       "             enable_categorical=False, eval_metric=None, feature_types=None,\n",
       "             gamma=None, grow_policy=None, importance_type=None,\n",
       "             interaction_constraints=None, learning_rate=None, max_bin=None,\n",
       "             max_cat_threshold=None, max_cat_to_onehot=None,\n",
       "             max_delta_step=None, max_depth=None, max_leaves=None,\n",
       "             min_child_weight=None, missing=nan, monotone_constraints=None,\n",
       "             multi_strategy=None, n_estimators=None, n_jobs=None,\n",
       "             num_parallel_tree=None, random_state=None, ...)</pre></div> </div></div></div></div>"
      ],
      "text/plain": [
       "XGBRegressor(base_score=None, booster=None, callbacks=None,\n",
       "             colsample_bylevel=None, colsample_bynode=None,\n",
       "             colsample_bytree=None, device=None, early_stopping_rounds=None,\n",
       "             enable_categorical=False, eval_metric=None, feature_types=None,\n",
       "             gamma=None, grow_policy=None, importance_type=None,\n",
       "             interaction_constraints=None, learning_rate=None, max_bin=None,\n",
       "             max_cat_threshold=None, max_cat_to_onehot=None,\n",
       "             max_delta_step=None, max_depth=None, max_leaves=None,\n",
       "             min_child_weight=None, missing=nan, monotone_constraints=None,\n",
       "             multi_strategy=None, n_estimators=None, n_jobs=None,\n",
       "             num_parallel_tree=None, random_state=None, ...)"
      ]
     },
     "execution_count": 18,
     "metadata": {},
     "output_type": "execute_result"
    }
   ],
   "source": [
    "# TRAIN XGB\n",
    "xgb_model = XGBRegressor()\n",
    "xgb_model.fit(X_train, y_train)"
   ]
  },
  {
   "cell_type": "code",
   "execution_count": 19,
   "metadata": {
    "ExecuteTime": {
     "end_time": "2024-09-28T20:00:36.348793Z",
     "start_time": "2024-09-28T20:00:35.906306300Z"
    },
    "collapsed": false,
    "jupyter": {
     "outputs_hidden": false
    }
   },
   "outputs": [
    {
     "data": {
      "text/plain": [
       "array([19974.74 , 47384.83 , 44596.11 , ..., 19352.87 , 16568.836,\n",
       "       33668.58 ], dtype=float32)"
      ]
     },
     "execution_count": 19,
     "metadata": {},
     "output_type": "execute_result"
    }
   ],
   "source": [
    "# PREDICTING PRICES\n",
    "prediction = xgb_model.predict(transformed_test)\n",
    "prediction"
   ]
  }
 ],
 "metadata": {
  "kernelspec": {
   "display_name": "Python 3 (ipykernel)",
   "language": "python",
   "name": "python3"
  },
  "language_info": {
   "codemirror_mode": {
    "name": "ipython",
    "version": 3
   },
   "file_extension": ".py",
   "mimetype": "text/x-python",
   "name": "python",
   "nbconvert_exporter": "python",
   "pygments_lexer": "ipython3",
   "version": "3.11.8"
  },
  "widgets": {
   "application/vnd.jupyter.widget-state+json": {
    "state": {},
    "version_major": 2,
    "version_minor": 0
   }
  }
 },
 "nbformat": 4,
 "nbformat_minor": 4
}

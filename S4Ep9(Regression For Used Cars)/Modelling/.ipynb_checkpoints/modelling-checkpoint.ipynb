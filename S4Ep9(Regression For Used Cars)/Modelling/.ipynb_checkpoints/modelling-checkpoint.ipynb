{
 "cells": [
  {
   "cell_type": "code",
   "execution_count": 114,
   "metadata": {
    "collapsed": true,
    "ExecuteTime": {
     "end_time": "2024-09-27T07:12:17.451214900Z",
     "start_time": "2024-09-27T07:12:17.269574900Z"
    }
   },
   "outputs": [],
   "source": [
    "# Importing Base Libraries\n",
    "import pandas as pd\n",
    "import numpy as np\n",
    "import matplotlib.pyplot as plt\n",
    "import seaborn as sns\n",
    "sns.set()"
   ]
  },
  {
   "cell_type": "code",
   "execution_count": 115,
   "outputs": [],
   "source": [
    "train = pd.read_csv('../datasets/train.csv')\n",
    "test = pd.read_csv('../datasets/test.csv')"
   ],
   "metadata": {
    "collapsed": false,
    "ExecuteTime": {
     "end_time": "2024-09-27T07:12:18.191987800Z",
     "start_time": "2024-09-27T07:12:17.326210400Z"
    }
   }
  },
  {
   "cell_type": "markdown",
   "source": [
    "# DATA PREPROCESSING"
   ],
   "metadata": {
    "collapsed": false
   }
  },
  {
   "cell_type": "markdown",
   "source": [
    "## DATA CLEANING PIPLINE"
   ],
   "metadata": {
    "collapsed": false
   }
  },
  {
   "cell_type": "code",
   "execution_count": 116,
   "outputs": [
    {
     "name": "stdout",
     "output_type": "stream",
     "text": [
      "TRAIN DATA CLEANING PIPLINE...\n",
      "Missing Values Imputed...\n",
      "FEATURE: model_year, NUM OF OUTLIERS: 5132\n",
      "FEATURE: milage, NUM OF OUTLIERS: 1766\n",
      "FEATURE: price, NUM OF OUTLIERS: 10880\n",
      "TOTAL OUTLIERS REMOVED: 17326\n"
     ]
    },
    {
     "name": "stderr",
     "output_type": "stream",
     "text": [
      "C:\\Users\\deusm\\AppData\\Local\\Temp\\ipykernel_20448\\2600172909.py:43: FutureWarning: DataFrame.applymap has been deprecated. Use DataFrame.map instead.\n",
      "  clean_train = clean_step_2[~clean_step_2.applymap(lambda x: isinstance(x, str) and bool(pd.Series(x).str.contains(r'[^\\x00-\\x7F]').any())).any(axis=1)]\n"
     ]
    },
    {
     "name": "stdout",
     "output_type": "stream",
     "text": [
      "Removed Weird Symbols\n",
      "TEST DATA CLEANING PIPLINE...\n",
      "Missing Values Imputed...\n"
     ]
    },
    {
     "name": "stderr",
     "output_type": "stream",
     "text": [
      "C:\\Users\\deusm\\AppData\\Local\\Temp\\ipykernel_20448\\2600172909.py:62: FutureWarning: DataFrame.applymap has been deprecated. Use DataFrame.map instead.\n",
      "  clean_train = clean_step_2[~clean_step_2.applymap(lambda x: isinstance(x, str) and bool(pd.Series(x).str.contains(r'[^\\x00-\\x7F]').any())).any(axis=1)]\n"
     ]
    },
    {
     "name": "stdout",
     "output_type": "stream",
     "text": [
      "Removed Weird Symbols\n"
     ]
    }
   ],
   "source": [
    "from sklearn.ensemble import IsolationForest\n",
    "from sklearn.impute import SimpleImputer\n",
    "from sklearn.compose import ColumnTransformer\n",
    "\n",
    "def data_cleaning_pipline(data, is_test_data=False):\n",
    "    # General step\n",
    "    clean_step_1 = data.drop(['id', 'clean_title'], axis=1)\n",
    "\n",
    "    if not is_test_data:\n",
    "        print(\"TRAIN DATA CLEANING PIPLINE...\")\n",
    "        num_columns = clean_step_1.select_dtypes(include=np.number).columns\n",
    "        cat_columns = clean_step_1.select_dtypes(exclude=np.number).columns\n",
    "        imputer = ColumnTransformer([\n",
    "            ('cat_imputer', SimpleImputer(strategy='most_frequent'), cat_columns),\n",
    "            ('num_imputer', SimpleImputer(strategy='median'), num_columns)\n",
    "        ], remainder='drop')\n",
    "        clean_step_2 = pd.DataFrame(imputer.fit_transform(clean_step_1), columns=[*cat_columns, *num_columns])\n",
    "        # Ensure numerical columns are converted back to their original types\n",
    "        clean_step_2[num_columns] = clean_step_2[num_columns].apply(pd.to_numeric, errors='coerce')\n",
    "\n",
    "        print(\"Missing Values Imputed...\")\n",
    "\n",
    "        # Detecting And Removing Outliers From Data\n",
    "        outliers = pd.DataFrame() # An empty dataframe\n",
    "        for feature in num_columns:\n",
    "            q1, q3 = clean_step_2[feature].quantile(0.25), clean_step_2[feature].quantile(0.75)\n",
    "            iqr = q3 - q1\n",
    "            lower_bound = q1 - 1.5 * iqr\n",
    "            upper_bound = q3 + 1.5 * iqr\n",
    "            outliers_instances = clean_step_2[(clean_step_2[feature] < lower_bound) | (clean_step_2[feature] > upper_bound)]\n",
    "            outliers = pd.concat([outliers, outliers_instances]).drop_duplicates()\n",
    "            print(f\"FEATURE: {feature}, NUM OF OUTLIERS: {len(outliers_instances)}\")\n",
    "        clean_step_2 = clean_step_2.drop(outliers.index)\n",
    "        print(f\"TOTAL OUTLIERS REMOVED: {len(outliers)}\")\n",
    "\n",
    "        iso_forest = IsolationForest(contamination=0.19, random_state=42)\n",
    "        predictions = iso_forest.fit_predict(clean_step_2[num_columns])\n",
    "        # Outliers are marked as -1\n",
    "        outliers = clean_step_2[predictions == -1]\n",
    "        clean_step_2 = clean_step_2.drop(outliers.index)\n",
    "\n",
    "        # Removing weird symbols from the dataset\n",
    "        clean_train = clean_step_2[~clean_step_2.applymap(lambda x: isinstance(x, str) and bool(pd.Series(x).str.contains(r'[^\\x00-\\x7F]').any())).any(axis=1)]\n",
    "        print(\"Removed Weird Symbols\")\n",
    "\n",
    "        return clean_train\n",
    "\n",
    "    if is_test_data:\n",
    "        print(\"TEST DATA CLEANING PIPLINE...\")\n",
    "        num_columns = clean_step_1.select_dtypes(include=np.number).columns\n",
    "        cat_columns = clean_step_1.select_dtypes(exclude=np.number).columns\n",
    "        imputer = ColumnTransformer([\n",
    "            ('cat_imputer', SimpleImputer(strategy='most_frequent'), cat_columns),\n",
    "            ('num_imputer', SimpleImputer(strategy='median'), num_columns)\n",
    "        ], remainder='drop')\n",
    "        clean_step_2 = pd.DataFrame(imputer.fit_transform(clean_step_1), columns=[*cat_columns, *num_columns])\n",
    "        # Ensure numerical columns are converted back to their original types\n",
    "        clean_step_2[num_columns] = clean_step_2[num_columns].apply(pd.to_numeric, errors='coerce')\n",
    "        print(\"Missing Values Imputed...\")\n",
    "\n",
    "        # Removing weird symbols from the dataset\n",
    "        clean_train = clean_step_2[~clean_step_2.applymap(lambda x: isinstance(x, str) and bool(pd.Series(x).str.contains(r'[^\\x00-\\x7F]').any())).any(axis=1)]\n",
    "        print(\"Removed Weird Symbols\")\n",
    "\n",
    "        return clean_train\n",
    "\n",
    "\n",
    "cleaned_train = data_cleaning_pipline(train, is_test_data=False)\n",
    "cleaned_test = data_cleaning_pipline(test, is_test_data=True)"
   ],
   "metadata": {
    "collapsed": false,
    "ExecuteTime": {
     "end_time": "2024-09-27T07:19:20.024513800Z",
     "start_time": "2024-09-27T07:12:18.198527100Z"
    }
   }
  },
  {
   "cell_type": "markdown",
   "source": [
    "## IDENTIFYING HIGH CARDINALITY CATEGORICAL VARIABLES"
   ],
   "metadata": {
    "collapsed": false
   }
  },
  {
   "cell_type": "code",
   "execution_count": 117,
   "outputs": [
    {
     "data": {
      "text/plain": "<Figure size 640x480 with 1 Axes>",
      "image/png": "[encoded data removed]"
     },
     "metadata": {},
     "output_type": "display_data"
    }
   ],
   "source": [
    "# Cardinality- Number of unique data per feature or categorical variable\n",
    "sns.barplot(cleaned_train.select_dtypes(exclude=np.number).nunique(), color='green')\n",
    "plt.xticks(rotation=90)\n",
    "plt.title('CARDINALITY PER CATEGORICAL VARIABLE')\n",
    "plt.show()"
   ],
   "metadata": {
    "collapsed": false,
    "ExecuteTime": {
     "end_time": "2024-09-27T07:19:20.359986100Z",
     "start_time": "2024-09-27T07:19:20.034024Z"
    }
   }
  },
  {
   "cell_type": "code",
   "execution_count": 118,
   "outputs": [],
   "source": [
    "# COMBINING LESS FREQUENT CATEGORIES TOGETHER\n",
    "def combiner(train_data, test_data, categorical_features, threshold, stats=None, drop_original=None):\n",
    "    \"\"\"A function that combines less frequent features\n",
    "    whose normalized frequency is less than the threshold\n",
    "    in categorical variables\"\"\"\n",
    "    for feature in categorical_features:\n",
    "        print(\">> \" + feature.upper())\n",
    "        print(f'train_CARDINALITY BEFORE: {train_data[feature].nunique()}')\n",
    "        print(f'test_CARDINALITY BEFORE: {test_data[feature].nunique()}')\n",
    "        cat_freq = train_data[feature].value_counts(normalize=True)\n",
    "        cat_to_keep = cat_freq[cat_freq >= threshold].index\n",
    "        train_data[feature + '_group'] = train_data[feature].where(train_data[feature].isin(cat_to_keep), 'Other')\n",
    "        test_data[feature + '_group'] = test_data[feature].where(test_data[feature].isin(cat_to_keep), 'Other')\n",
    "        print(f'train_CARDINALITY AFTER: {train_data[feature + \"_group\"].nunique()}')\n",
    "        print(f'train_CARDINALITY AFTER: {test_data[feature + \"_group\"].nunique()}')\n",
    "        if stats:\n",
    "            print('\\n\\n')\n",
    "            print(cat_freq)\n",
    "        if drop_original:\n",
    "            train_data = train_data.drop([feature], axis=1)\n",
    "            test_data = test_data.drop([feature], axis=1)\n",
    "    return train_data, test_data"
   ],
   "metadata": {
    "collapsed": false,
    "ExecuteTime": {
     "end_time": "2024-09-27T07:19:20.369991Z",
     "start_time": "2024-09-27T07:19:20.362490200Z"
    }
   }
  },
  {
   "cell_type": "code",
   "execution_count": 119,
   "outputs": [
    {
     "name": "stdout",
     "output_type": "stream",
     "text": [
      ">> BRAND\n",
      "train_CARDINALITY BEFORE: 55\n",
      "test_CARDINALITY BEFORE: 55\n",
      "train_CARDINALITY AFTER: 25\n",
      "train_CARDINALITY AFTER: 25\n",
      ">> MODEL\n",
      "train_CARDINALITY BEFORE: 1881\n",
      "test_CARDINALITY BEFORE: 1888\n",
      "train_CARDINALITY AFTER: 3\n",
      "train_CARDINALITY AFTER: 3\n",
      ">> FUEL_TYPE\n",
      "train_CARDINALITY BEFORE: 6\n",
      "test_CARDINALITY BEFORE: 6\n",
      "train_CARDINALITY AFTER: 5\n",
      "train_CARDINALITY AFTER: 5\n",
      ">> ENGINE\n",
      "train_CARDINALITY BEFORE: 1102\n",
      "test_CARDINALITY BEFORE: 1116\n",
      "train_CARDINALITY AFTER: 15\n",
      "train_CARDINALITY AFTER: 15\n",
      ">> TRANSMISSION\n",
      "train_CARDINALITY BEFORE: 51\n",
      "test_CARDINALITY BEFORE: 51\n",
      "train_CARDINALITY AFTER: 16\n",
      "train_CARDINALITY AFTER: 16\n",
      ">> EXT_COL\n",
      "train_CARDINALITY BEFORE: 316\n",
      "test_CARDINALITY BEFORE: 316\n",
      "train_CARDINALITY AFTER: 7\n",
      "train_CARDINALITY AFTER: 7\n",
      ">> INT_COL\n",
      "train_CARDINALITY BEFORE: 155\n",
      "test_CARDINALITY BEFORE: 155\n",
      "train_CARDINALITY AFTER: 9\n",
      "train_CARDINALITY AFTER: 9\n",
      ">> ACCIDENT\n",
      "train_CARDINALITY BEFORE: 2\n",
      "test_CARDINALITY BEFORE: 2\n",
      "train_CARDINALITY AFTER: 2\n",
      "train_CARDINALITY AFTER: 2\n"
     ]
    }
   ],
   "source": [
    "cleaned_train1, cleaned_test1 = combiner(train_data=cleaned_train,\n",
    "                                         test_data=cleaned_test,\n",
    "                                         categorical_features=cleaned_train.select_dtypes(exclude=np.number).columns,\n",
    "                                         threshold=0.01, drop_original=True)"
   ],
   "metadata": {
    "collapsed": false,
    "ExecuteTime": {
     "end_time": "2024-09-27T07:19:21.082051700Z",
     "start_time": "2024-09-27T07:19:20.369991Z"
    }
   }
  },
  {
   "cell_type": "code",
   "execution_count": 120,
   "outputs": [
    {
     "data": {
      "text/plain": "   model_year    milage    price brand_group model_group fuel_type_group  \\\n3      2017.0   19500.0  45000.0       Other       Other        Gasoline   \n6      2016.0   62200.0  28500.0        Audi       Other        Gasoline   \n7      2016.0  102604.0  12500.0   Chevrolet       Other   E85 Flex Fuel   \n8      2020.0   38352.0  62890.0        Ford   F-150 XLT        Gasoline   \n9      2015.0   74850.0   4000.0         BMW       Other        Gasoline   \n\n                                        engine_group  \\\n3                                              Other   \n6                                              Other   \n7                                              Other   \n8                                              Other   \n9  425.0HP 3.0L Straight 6 Cylinder Engine Gasoli...   \n\n               transmission_group ext_col_group int_col_group accident_group  \n3  Transmission w/Dual Shift Mode         Black         Black  None reported  \n6                     8-Speed A/T         Black         Black  None reported  \n7                             A/T         White          Gray  None reported  \n8              10-Speed Automatic         Other         Black  None reported  \n9  Transmission w/Dual Shift Mode         Black         Other  None reported  ",
      "text/html": "<div>\n<style scoped>\n    .dataframe tbody tr th:only-of-type {\n        vertical-align: middle;\n    }\n\n    .dataframe tbody tr th {\n        vertical-align: top;\n    }\n\n    .dataframe thead th {\n        text-align: right;\n    }\n</style>\n<table border=\"1\" class=\"dataframe\">\n  <thead>\n    <tr style=\"text-align: right;\">\n      <th></th>\n      <th>model_year</th>\n      <th>milage</th>\n      <th>price</th>\n      <th>brand_group</th>\n      <th>model_group</th>\n      <th>fuel_type_group</th>\n      <th>engine_group</th>\n      <th>transmission_group</th>\n      <th>ext_col_group</th>\n      <th>int_col_group</th>\n      <th>accident_group</th>\n    </tr>\n  </thead>\n  <tbody>\n    <tr>\n      <th>3</th>\n      <td>2017.0</td>\n      <td>19500.0</td>\n      <td>45000.0</td>\n      <td>Other</td>\n      <td>Other</td>\n      <td>Gasoline</td>\n      <td>Other</td>\n      <td>Transmission w/Dual Shift Mode</td>\n      <td>Black</td>\n      <td>Black</td>\n      <td>None reported</td>\n    </tr>\n    <tr>\n      <th>6</th>\n      <td>2016.0</td>\n      <td>62200.0</td>\n      <td>28500.0</td>\n      <td>Audi</td>\n      <td>Other</td>\n      <td>Gasoline</td>\n      <td>Other</td>\n      <td>8-Speed A/T</td>\n      <td>Black</td>\n      <td>Black</td>\n      <td>None reported</td>\n    </tr>\n    <tr>\n      <th>7</th>\n      <td>2016.0</td>\n      <td>102604.0</td>\n      <td>12500.0</td>\n      <td>Chevrolet</td>\n      <td>Other</td>\n      <td>E85 Flex Fuel</td>\n      <td>Other</td>\n      <td>A/T</td>\n      <td>White</td>\n      <td>Gray</td>\n      <td>None reported</td>\n    </tr>\n    <tr>\n      <th>8</th>\n      <td>2020.0</td>\n      <td>38352.0</td>\n      <td>62890.0</td>\n      <td>Ford</td>\n      <td>F-150 XLT</td>\n      <td>Gasoline</td>\n      <td>Other</td>\n      <td>10-Speed Automatic</td>\n      <td>Other</td>\n      <td>Black</td>\n      <td>None reported</td>\n    </tr>\n    <tr>\n      <th>9</th>\n      <td>2015.0</td>\n      <td>74850.0</td>\n      <td>4000.0</td>\n      <td>BMW</td>\n      <td>Other</td>\n      <td>Gasoline</td>\n      <td>425.0HP 3.0L Straight 6 Cylinder Engine Gasoli...</td>\n      <td>Transmission w/Dual Shift Mode</td>\n      <td>Black</td>\n      <td>Other</td>\n      <td>None reported</td>\n    </tr>\n  </tbody>\n</table>\n</div>"
     },
     "execution_count": 120,
     "metadata": {},
     "output_type": "execute_result"
    }
   ],
   "source": [
    "cleaned_train1.head()"
   ],
   "metadata": {
    "collapsed": false,
    "ExecuteTime": {
     "end_time": "2024-09-27T07:19:21.097989600Z",
     "start_time": "2024-09-27T07:19:21.082051700Z"
    }
   }
  },
  {
   "cell_type": "markdown",
   "source": [
    "# DATA TRANSFORMATION PIPELINE"
   ],
   "metadata": {
    "collapsed": false
   }
  },
  {
   "cell_type": "code",
   "execution_count": 121,
   "outputs": [],
   "source": [
    "from sklearn.compose import ColumnTransformer\n",
    "from sklearn.preprocessing import StandardScaler\n",
    "from sklearn.preprocessing import OneHotEncoder\n",
    "\n",
    "# # Convert model_year To String\n",
    "# train['model_year'] = train['model_year'].astype(str)\n",
    "\n",
    "\n",
    "num_features = ['model_year', 'milage']\n",
    "\n",
    "transformer = ColumnTransformer([\n",
    "    ('cat', OneHotEncoder(sparse_output=False), cleaned_train1.select_dtypes(exclude=np.number).columns),\n",
    "    ('num', StandardScaler(), num_features)\n",
    "], remainder='drop')\n"
   ],
   "metadata": {
    "collapsed": false,
    "ExecuteTime": {
     "end_time": "2024-09-27T07:19:21.176217200Z",
     "start_time": "2024-09-27T07:19:21.097989600Z"
    }
   }
  },
  {
   "cell_type": "code",
   "execution_count": 122,
   "outputs": [],
   "source": [
    "# TRANSFORMING THE WHOLE DATASET\n",
    "transformed_train = transformer.fit_transform(cleaned_train1)\n",
    "transformed_test = transformer.fit_transform(cleaned_test1)"
   ],
   "metadata": {
    "collapsed": false,
    "ExecuteTime": {
     "end_time": "2024-09-27T07:19:21.795357900Z",
     "start_time": "2024-09-27T07:19:21.129350Z"
    }
   }
  },
  {
   "cell_type": "code",
   "execution_count": 123,
   "outputs": [
    {
     "data": {
      "text/plain": "array([[ 0.        ,  0.        ,  0.        ,  0.        ,  0.        ,\n         0.        ,  0.        ,  0.        ,  0.        ,  0.        ,\n         0.        ,  0.        ,  0.        ,  0.        ,  0.        ,\n         0.        ,  0.        ,  0.        ,  1.        ,  0.        ,\n         0.        ,  0.        ,  0.        ,  0.        ,  0.        ,\n         0.        ,  0.        ,  1.        ,  0.        ,  0.        ,\n         1.        ,  0.        ,  0.        ,  0.        ,  0.        ,\n         0.        ,  0.        ,  0.        ,  0.        ,  0.        ,\n         0.        ,  0.        ,  0.        ,  0.        ,  0.        ,\n         0.        ,  0.        ,  1.        ,  0.        ,  0.        ,\n         0.        ,  0.        ,  0.        ,  0.        ,  0.        ,\n         0.        ,  0.        ,  0.        ,  0.        ,  0.        ,\n         0.        ,  0.        ,  0.        ,  1.        ,  1.        ,\n         0.        ,  0.        ,  0.        ,  0.        ,  0.        ,\n         0.        ,  0.        ,  1.        ,  0.        ,  0.        ,\n         0.        ,  0.        ,  0.        ,  0.        ,  0.        ,\n         0.        ,  1.        ,  0.04418414, -1.09664941],\n       [ 0.        ,  1.        ,  0.        ,  0.        ,  0.        ,\n         0.        ,  0.        ,  0.        ,  0.        ,  0.        ,\n         0.        ,  0.        ,  0.        ,  0.        ,  0.        ,\n         0.        ,  0.        ,  0.        ,  0.        ,  0.        ,\n         0.        ,  0.        ,  0.        ,  0.        ,  0.        ,\n         0.        ,  0.        ,  1.        ,  0.        ,  0.        ,\n         1.        ,  0.        ,  0.        ,  0.        ,  0.        ,\n         0.        ,  0.        ,  0.        ,  0.        ,  0.        ,\n         0.        ,  0.        ,  0.        ,  0.        ,  0.        ,\n         0.        ,  0.        ,  1.        ,  0.        ,  0.        ,\n         0.        ,  0.        ,  0.        ,  0.        ,  0.        ,\n         1.        ,  0.        ,  0.        ,  0.        ,  0.        ,\n         0.        ,  0.        ,  0.        ,  0.        ,  1.        ,\n         0.        ,  0.        ,  0.        ,  0.        ,  0.        ,\n         0.        ,  0.        ,  1.        ,  0.        ,  0.        ,\n         0.        ,  0.        ,  0.        ,  0.        ,  0.        ,\n         0.        ,  1.        , -0.20504628,  0.00340838],\n       [ 0.        ,  0.        ,  0.        ,  0.        ,  1.        ,\n         0.        ,  0.        ,  0.        ,  0.        ,  0.        ,\n         0.        ,  0.        ,  0.        ,  0.        ,  0.        ,\n         0.        ,  0.        ,  0.        ,  0.        ,  0.        ,\n         0.        ,  0.        ,  0.        ,  0.        ,  0.        ,\n         0.        ,  0.        ,  1.        ,  0.        ,  1.        ,\n         0.        ,  0.        ,  0.        ,  0.        ,  0.        ,\n         0.        ,  0.        ,  0.        ,  0.        ,  0.        ,\n         0.        ,  0.        ,  0.        ,  0.        ,  0.        ,\n         0.        ,  0.        ,  1.        ,  0.        ,  0.        ,\n         0.        ,  0.        ,  0.        ,  0.        ,  0.        ,\n         0.        ,  0.        ,  0.        ,  0.        ,  1.        ,\n         0.        ,  0.        ,  0.        ,  0.        ,  0.        ,\n         0.        ,  0.        ,  0.        ,  0.        ,  0.        ,\n         1.        ,  0.        ,  0.        ,  0.        ,  0.        ,\n         1.        ,  0.        ,  0.        ,  0.        ,  0.        ,\n         0.        ,  1.        , -0.20504628,  1.04431552],\n       [ 0.        ,  0.        ,  0.        ,  0.        ,  0.        ,\n         0.        ,  1.        ,  0.        ,  0.        ,  0.        ,\n         0.        ,  0.        ,  0.        ,  0.        ,  0.        ,\n         0.        ,  0.        ,  0.        ,  0.        ,  0.        ,\n         0.        ,  0.        ,  0.        ,  0.        ,  0.        ,\n         0.        ,  1.        ,  0.        ,  0.        ,  0.        ,\n         1.        ,  0.        ,  0.        ,  0.        ,  0.        ,\n         0.        ,  0.        ,  0.        ,  0.        ,  0.        ,\n         0.        ,  0.        ,  0.        ,  0.        ,  0.        ,\n         0.        ,  0.        ,  1.        ,  0.        ,  1.        ,\n         0.        ,  0.        ,  0.        ,  0.        ,  0.        ,\n         0.        ,  0.        ,  0.        ,  0.        ,  0.        ,\n         0.        ,  0.        ,  0.        ,  0.        ,  0.        ,\n         0.        ,  0.        ,  1.        ,  0.        ,  0.        ,\n         0.        ,  0.        ,  1.        ,  0.        ,  0.        ,\n         0.        ,  0.        ,  0.        ,  0.        ,  0.        ,\n         0.        ,  1.        ,  0.79187537, -0.61097518],\n       [ 0.        ,  0.        ,  1.        ,  0.        ,  0.        ,\n         0.        ,  0.        ,  0.        ,  0.        ,  0.        ,\n         0.        ,  0.        ,  0.        ,  0.        ,  0.        ,\n         0.        ,  0.        ,  0.        ,  0.        ,  0.        ,\n         0.        ,  0.        ,  0.        ,  0.        ,  0.        ,\n         0.        ,  0.        ,  1.        ,  0.        ,  0.        ,\n         1.        ,  0.        ,  0.        ,  0.        ,  0.        ,\n         0.        ,  0.        ,  0.        ,  0.        ,  0.        ,\n         0.        ,  0.        ,  0.        ,  0.        ,  0.        ,\n         1.        ,  0.        ,  0.        ,  0.        ,  0.        ,\n         0.        ,  0.        ,  0.        ,  0.        ,  0.        ,\n         0.        ,  0.        ,  0.        ,  0.        ,  0.        ,\n         0.        ,  0.        ,  0.        ,  1.        ,  1.        ,\n         0.        ,  0.        ,  0.        ,  0.        ,  0.        ,\n         0.        ,  0.        ,  0.        ,  0.        ,  0.        ,\n         0.        ,  0.        ,  1.        ,  0.        ,  0.        ,\n         0.        ,  1.        , -0.45427669,  0.32930372]])"
     },
     "execution_count": 123,
     "metadata": {},
     "output_type": "execute_result"
    }
   ],
   "source": [
    "transformed_train[0:5, :]"
   ],
   "metadata": {
    "collapsed": false,
    "ExecuteTime": {
     "end_time": "2024-09-27T07:19:21.806769300Z",
     "start_time": "2024-09-27T07:19:21.801441900Z"
    }
   }
  },
  {
   "cell_type": "code",
   "execution_count": 124,
   "outputs": [
    {
     "data": {
      "text/plain": "array([[ 0.        ,  0.        ,  0.        ,  0.        ,  0.        ,\n         0.        ,  0.        ,  0.        ,  0.        ,  0.        ,\n         0.        ,  0.        ,  1.        ,  0.        ,  0.        ,\n         0.        ,  0.        ,  0.        ,  0.        ,  0.        ,\n         0.        ,  0.        ,  0.        ,  0.        ,  0.        ,\n         0.        ,  0.        ,  1.        ,  0.        ,  0.        ,\n         1.        ,  0.        ,  0.        ,  0.        ,  1.        ,\n         0.        ,  0.        ,  0.        ,  0.        ,  0.        ,\n         0.        ,  0.        ,  0.        ,  0.        ,  0.        ,\n         0.        ,  0.        ,  0.        ,  0.        ,  0.        ,\n         0.        ,  1.        ,  0.        ,  0.        ,  0.        ,\n         0.        ,  0.        ,  0.        ,  0.        ,  0.        ,\n         0.        ,  0.        ,  0.        ,  0.        ,  0.        ,\n         0.        ,  0.        ,  0.        ,  0.        ,  0.        ,\n         1.        ,  1.        ,  0.        ,  0.        ,  0.        ,\n         0.        ,  0.        ,  0.        ,  0.        ,  0.        ,\n         0.        ,  1.        , -0.15489596,  0.64154432],\n       [ 0.        ,  0.        ,  0.        ,  0.        ,  0.        ,\n         0.        ,  0.        ,  0.        ,  0.        ,  0.        ,\n         0.        ,  0.        ,  1.        ,  0.        ,  0.        ,\n         0.        ,  0.        ,  0.        ,  0.        ,  0.        ,\n         0.        ,  0.        ,  0.        ,  0.        ,  0.        ,\n         0.        ,  0.        ,  1.        ,  0.        ,  0.        ,\n         0.        ,  1.        ,  0.        ,  0.        ,  0.        ,\n         0.        ,  0.        ,  0.        ,  0.        ,  0.        ,\n         0.        ,  0.        ,  0.        ,  0.        ,  0.        ,\n         0.        ,  0.        ,  1.        ,  0.        ,  0.        ,\n         0.        ,  0.        ,  0.        ,  0.        ,  0.        ,\n         1.        ,  0.        ,  0.        ,  0.        ,  0.        ,\n         0.        ,  0.        ,  0.        ,  0.        ,  0.        ,\n         0.        ,  0.        ,  0.        ,  0.        ,  1.        ,\n         0.        ,  0.        ,  1.        ,  0.        ,  0.        ,\n         0.        ,  0.        ,  0.        ,  0.        ,  0.        ,\n         0.        ,  1.        ,  0.74445331, -1.13426043],\n       [ 0.        ,  0.        ,  0.        ,  0.        ,  0.        ,\n         0.        ,  1.        ,  0.        ,  0.        ,  0.        ,\n         0.        ,  0.        ,  0.        ,  0.        ,  0.        ,\n         0.        ,  0.        ,  0.        ,  0.        ,  0.        ,\n         0.        ,  0.        ,  0.        ,  0.        ,  0.        ,\n         0.        ,  0.        ,  1.        ,  0.        ,  0.        ,\n         1.        ,  0.        ,  0.        ,  0.        ,  0.        ,\n         0.        ,  0.        ,  1.        ,  0.        ,  0.        ,\n         0.        ,  0.        ,  0.        ,  0.        ,  0.        ,\n         0.        ,  0.        ,  0.        ,  0.        ,  1.        ,\n         0.        ,  0.        ,  0.        ,  0.        ,  0.        ,\n         0.        ,  0.        ,  0.        ,  0.        ,  0.        ,\n         0.        ,  0.        ,  0.        ,  0.        ,  0.        ,\n         0.        ,  0.        ,  0.        ,  0.        ,  0.        ,\n         1.        ,  0.        ,  0.        ,  0.        ,  1.        ,\n         0.        ,  0.        ,  0.        ,  0.        ,  0.        ,\n         0.        ,  1.        ,  1.10419302, -0.75496989],\n       [ 0.        ,  1.        ,  0.        ,  0.        ,  0.        ,\n         0.        ,  0.        ,  0.        ,  0.        ,  0.        ,\n         0.        ,  0.        ,  0.        ,  0.        ,  0.        ,\n         0.        ,  0.        ,  0.        ,  0.        ,  0.        ,\n         0.        ,  0.        ,  0.        ,  0.        ,  0.        ,\n         0.        ,  0.        ,  1.        ,  0.        ,  0.        ,\n         1.        ,  0.        ,  0.        ,  0.        ,  0.        ,\n         0.        ,  0.        ,  0.        ,  0.        ,  0.        ,\n         0.        ,  0.        ,  0.        ,  0.        ,  0.        ,\n         0.        ,  0.        ,  1.        ,  0.        ,  0.        ,\n         0.        ,  0.        ,  0.        ,  0.        ,  0.        ,\n         0.        ,  0.        ,  0.        ,  0.        ,  0.        ,\n         1.        ,  0.        ,  0.        ,  0.        ,  0.        ,\n         0.        ,  0.        ,  1.        ,  0.        ,  0.        ,\n         0.        ,  0.        ,  1.        ,  0.        ,  0.        ,\n         0.        ,  0.        ,  0.        ,  0.        ,  0.        ,\n         0.        ,  1.        ,  0.0249739 , -0.09273529],\n       [ 0.        ,  1.        ,  0.        ,  0.        ,  0.        ,\n         0.        ,  0.        ,  0.        ,  0.        ,  0.        ,\n         0.        ,  0.        ,  0.        ,  0.        ,  0.        ,\n         0.        ,  0.        ,  0.        ,  0.        ,  0.        ,\n         0.        ,  0.        ,  0.        ,  0.        ,  0.        ,\n         0.        ,  0.        ,  1.        ,  0.        ,  0.        ,\n         1.        ,  0.        ,  0.        ,  0.        ,  0.        ,\n         0.        ,  0.        ,  0.        ,  0.        ,  0.        ,\n         0.        ,  0.        ,  0.        ,  0.        ,  0.        ,\n         0.        ,  0.        ,  1.        ,  0.        ,  0.        ,\n         0.        ,  0.        ,  0.        ,  0.        ,  0.        ,\n         0.        ,  0.        ,  0.        ,  0.        ,  1.        ,\n         0.        ,  0.        ,  0.        ,  0.        ,  0.        ,\n         0.        ,  1.        ,  0.        ,  0.        ,  0.        ,\n         0.        ,  0.        ,  1.        ,  0.        ,  0.        ,\n         0.        ,  0.        ,  0.        ,  0.        ,  0.        ,\n         0.        ,  1.        ,  0.3847136 , -0.13786086]])"
     },
     "execution_count": 124,
     "metadata": {},
     "output_type": "execute_result"
    }
   ],
   "source": [
    "transformed_test[0:5, :]"
   ],
   "metadata": {
    "collapsed": false,
    "ExecuteTime": {
     "end_time": "2024-09-27T07:19:21.818409900Z",
     "start_time": "2024-09-27T07:19:21.806769300Z"
    }
   }
  },
  {
   "cell_type": "markdown",
   "source": [
    "# PREDICTIVE MODELS AND DIMENSIONALITY REDUCTION"
   ],
   "metadata": {
    "collapsed": false
   }
  },
  {
   "cell_type": "code",
   "execution_count": 125,
   "outputs": [],
   "source": [
    "import matplotlib.pyplot as plt\n",
    "import seaborn as sns\n",
    "from sklearn.decomposition import TruncatedSVD\n",
    "from sklearn.model_selection import KFold, cross_val_score\n",
    "from sklearn.pipeline import Pipeline\n",
    "\n",
    "\n",
    "def dim_selector(algorithm, n_dims_to_try, X, y, return_barplot=None):\n",
    "    \"\"\"A Function That Compares Model Performance With The Number Of Feature Dimension\n",
    "    Using Singular Value Decomposition Method Due To its Robustness With Sparse Data\"\"\"\n",
    "    models = dict()\n",
    "    model_scores = dict()\n",
    "\n",
    "    for component in range(1, n_dims_to_try):\n",
    "        model = Pipeline([\n",
    "            ('lda', TruncatedSVD(n_components=component)),\n",
    "            ('model', algorithm)\n",
    "        ])\n",
    "        models['model_' + str(component) + 'c'] = model\n",
    "\n",
    "    for name, model in models.items():\n",
    "        cv_ = KFold(n_splits=4)\n",
    "        scores = cross_val_score(model, X, y, scoring='neg_root_mean_squared_error', cv=cv_, n_jobs=-1)\n",
    "        model_scores[name] = np.mean(-scores)\n",
    "\n",
    "    if return_barplot:\n",
    "        sns.barplot(model_scores, color='green')\n",
    "        plt.title(\"Model Accuracies With Number Of Components\")\n",
    "        plt.xticks(rotation=90)\n",
    "        plt.ylabel(\"rmse\")\n",
    "        plt.xlabel(\"model trained on n features\")\n",
    "        plt.show()\n",
    "    else:\n",
    "        return model_scores\n",
    "\n"
   ],
   "metadata": {
    "collapsed": false,
    "ExecuteTime": {
     "end_time": "2024-09-27T07:19:21.863955600Z",
     "start_time": "2024-09-27T07:19:21.818409900Z"
    }
   }
  },
  {
   "cell_type": "markdown",
   "source": [
    "## X, y"
   ],
   "metadata": {
    "collapsed": false
   }
  },
  {
   "cell_type": "code",
   "execution_count": 126,
   "outputs": [],
   "source": [
    "X_train, y_train  = transformed_train, cleaned_train['price'].values"
   ],
   "metadata": {
    "collapsed": false,
    "ExecuteTime": {
     "end_time": "2024-09-27T07:19:21.863955600Z",
     "start_time": "2024-09-27T07:19:21.832148500Z"
    }
   }
  },
  {
   "cell_type": "markdown",
   "source": [
    "### CROSS VALIDATION FUNCTION"
   ],
   "metadata": {
    "collapsed": false
   }
  },
  {
   "cell_type": "code",
   "execution_count": 127,
   "outputs": [],
   "source": [
    "from sklearn.model_selection import cross_val_score\n",
    "from sklearn.pipeline import Pipeline\n",
    "from sklearn.decomposition import TruncatedSVD\n",
    "\n",
    "# CROSS VALIDATION FUNCTION\n",
    "def cross_validator(algorithm, xtrain, ytrain, n_components, cv):\n",
    "    \"\"\"A cross-validation function for comparing models train with\n",
    "    dimensionality reduction and without\"\"\"\n",
    "\n",
    "    print(\"MODEL RMSE SCORES\")\n",
    "    scores = cross_val_score(algorithm, xtrain, ytrain,\n",
    "                             scoring='neg_root_mean_squared_error',\n",
    "                             cv=cv, n_jobs=-1)\n",
    "    print(-scores)\n",
    "    print(\"\\nMODEL RMSE SCORES WITH DIMENSIONALITY REDUCTION\")\n",
    "    model_with_dim = Pipeline([\n",
    "        ('dim_reduction', TruncatedSVD(n_components=n_components)),\n",
    "        ('model', algorithm)\n",
    "    ])\n",
    "    scores_1 = cross_val_score(model_with_dim, xtrain, ytrain,\n",
    "                             scoring='neg_root_mean_squared_error',\n",
    "                             cv=cv, n_jobs=-1)\n",
    "    print(-scores_1)\n",
    "\n",
    "    # Conclusions\n",
    "    if np.mean(scores_1) > np.mean(scores):\n",
    "        print(\"Model Performed Better With Dim Reduction\")\n",
    "    else:\n",
    "        print(\"Model Performed Better Without Dim Reduction\")\n"
   ],
   "metadata": {
    "collapsed": false,
    "ExecuteTime": {
     "end_time": "2024-09-27T07:19:21.863955600Z",
     "start_time": "2024-09-27T07:19:21.848029400Z"
    }
   }
  },
  {
   "cell_type": "markdown",
   "source": [
    "## MODEL SELECTION EXPERIMENTS"
   ],
   "metadata": {
    "collapsed": false
   }
  },
  {
   "cell_type": "code",
   "execution_count": 128,
   "outputs": [
    {
     "name": "stdout",
     "output_type": "stream",
     "text": [
      "MODEL RMSE SCORES\n",
      "[10567.40734729 10551.04279503 10631.50938255 10569.76763754]\n",
      "\n",
      "MODEL RMSE SCORES WITH DIMENSIONALITY REDUCTION\n",
      "[10809.87500016 10729.17977746 10830.09328167 10792.82004158]\n",
      "Model Performed Better Without Dim Reduction\n"
     ]
    }
   ],
   "source": [
    "from xgboost import XGBRegressor\n",
    "cross_validator(algorithm=XGBRegressor(), xtrain=X_train,\n",
    "                ytrain=y_train, n_components=84, cv=4)"
   ],
   "metadata": {
    "collapsed": false,
    "ExecuteTime": {
     "end_time": "2024-09-27T07:20:08.445064500Z",
     "start_time": "2024-09-27T07:19:21.863955600Z"
    }
   }
  },
  {
   "cell_type": "code",
   "execution_count": 129,
   "outputs": [
    {
     "data": {
      "text/plain": "<Figure size 640x480 with 1 Axes>",
      "image/png": "[encoded data removed]"
     },
     "metadata": {},
     "output_type": "display_data"
    }
   ],
   "source": [
    "# WITH DIMENSIONALITY REDUCTION\n",
    "dim_selector(algorithm=XGBRegressor(), n_dims_to_try=40, X=X_train, y=y_train, return_barplot=True)"
   ],
   "metadata": {
    "collapsed": false,
    "ExecuteTime": {
     "end_time": "2024-09-27T07:25:09.101291Z",
     "start_time": "2024-09-27T07:20:08.445064500Z"
    }
   }
  },
  {
   "cell_type": "markdown",
   "source": [
    "## Model_2, Ensemble Using StackedRegressor"
   ],
   "metadata": {
    "collapsed": false
   }
  },
  {
   "cell_type": "code",
   "execution_count": 130,
   "outputs": [
    {
     "ename": "TypeError",
     "evalue": "cross_validator() missing 1 required positional argument: 'n_components'",
     "output_type": "error",
     "traceback": [
      "\u001B[1;31m---------------------------------------------------------------------------\u001B[0m",
      "\u001B[1;31mTypeError\u001B[0m                                 Traceback (most recent call last)",
      "Cell \u001B[1;32mIn[130], line 11\u001B[0m\n\u001B[0;32m      4\u001B[0m \u001B[38;5;28;01mfrom\u001B[39;00m \u001B[38;5;21;01mxgboost\u001B[39;00m \u001B[38;5;28;01mimport\u001B[39;00m XGBRegressor\n\u001B[0;32m      6\u001B[0m stacking_regressor \u001B[38;5;241m=\u001B[39m StackingRegressor([\n\u001B[0;32m      7\u001B[0m     (\u001B[38;5;124m'\u001B[39m\u001B[38;5;124mforest\u001B[39m\u001B[38;5;124m'\u001B[39m, RandomForestRegressor(n_estimators\u001B[38;5;241m=\u001B[39m\u001B[38;5;241m45\u001B[39m, random_state\u001B[38;5;241m=\u001B[39m\u001B[38;5;241m7\u001B[39m)),\n\u001B[0;32m      8\u001B[0m     (\u001B[38;5;124m'\u001B[39m\u001B[38;5;124mgrad_boost\u001B[39m\u001B[38;5;124m'\u001B[39m, XGBRegressor())\n\u001B[0;32m      9\u001B[0m ], final_estimator\u001B[38;5;241m=\u001B[39mLasso(alpha\u001B[38;5;241m=\u001B[39m\u001B[38;5;241m0.1\u001B[39m))\n\u001B[1;32m---> 11\u001B[0m \u001B[43mcross_validator\u001B[49m\u001B[43m(\u001B[49m\u001B[43mstacking_regressor\u001B[49m\u001B[43m,\u001B[49m\u001B[43m \u001B[49m\u001B[43mxtrain\u001B[49m\u001B[38;5;241;43m=\u001B[39;49m\u001B[43mX_train\u001B[49m\u001B[43m,\u001B[49m\u001B[43m \u001B[49m\u001B[43mytrain\u001B[49m\u001B[38;5;241;43m=\u001B[39;49m\u001B[43my_train\u001B[49m\u001B[43m,\u001B[49m\u001B[43m \u001B[49m\u001B[43mcv\u001B[49m\u001B[38;5;241;43m=\u001B[39;49m\u001B[38;5;241;43m10\u001B[39;49m\u001B[43m)\u001B[49m\n",
      "\u001B[1;31mTypeError\u001B[0m: cross_validator() missing 1 required positional argument: 'n_components'"
     ]
    }
   ],
   "source": [
    "from sklearn.linear_model import Lasso\n",
    "from sklearn.ensemble import RandomForestRegressor\n",
    "from sklearn.ensemble import StackingRegressor\n",
    "from xgboost import XGBRegressor\n",
    "\n",
    "stacking_regressor = StackingRegressor([\n",
    "    ('forest', RandomForestRegressor(n_estimators=45, random_state=7)),\n",
    "    ('grad_boost', XGBRegressor())\n",
    "], final_estimator=Lasso(alpha=0.1))\n",
    "\n",
    "cross_validator(stacking_regressor, xtrain=X_train, ytrain=y_train, cv=10)"
   ],
   "metadata": {
    "collapsed": false,
    "ExecuteTime": {
     "end_time": "2024-09-27T07:25:09.270511300Z",
     "start_time": "2024-09-27T07:25:09.101291Z"
    }
   }
  },
  {
   "cell_type": "code",
   "execution_count": null,
   "outputs": [],
   "source": [
    "# AN ENSEMBLE OF XGBOOST REGRESSORS\n",
    "from sklearn.ensemble import BaggingRegressor\n",
    "from sklearn.svm import SVR\n",
    "\n",
    "e_regressor = BaggingRegressor(\n",
    "    SVR(kernel='poly'),\n",
    "    n_estimators=5,\n",
    "    max_samples=5000, n_jobs=-1\n",
    ")\n",
    "\n",
    "cross_validator(e_regressor, xtrain=X_train, ytrain=y_train, n_components=40 ,cv=4)"
   ],
   "metadata": {
    "collapsed": false,
    "ExecuteTime": {
     "start_time": "2024-09-27T07:25:09.145502200Z"
    }
   }
  },
  {
   "cell_type": "code",
   "execution_count": null,
   "outputs": [],
   "source": [
    "# TRAIN XGB\n",
    "xgb_model = XGBRegressor()\n",
    "xgb_model.fit(X_train, y_train)"
   ],
   "metadata": {
    "collapsed": false,
    "ExecuteTime": {
     "start_time": "2024-09-27T07:25:09.145502200Z"
    }
   }
  },
  {
   "cell_type": "code",
   "execution_count": 131,
   "outputs": [
    {
     "data": {
      "text/plain": "array([19974.74 , 47384.83 , 44596.11 , ..., 19352.87 , 16568.836,\n       33668.58 ], dtype=float32)"
     },
     "execution_count": 131,
     "metadata": {},
     "output_type": "execute_result"
    }
   ],
   "source": [
    "# PREDICTING PRICES\n",
    "prediction = xgb_model.predict(transformed_test)\n",
    "prediction"
   ],
   "metadata": {
    "collapsed": false,
    "ExecuteTime": {
     "end_time": "2024-09-28T20:00:36.348793Z",
     "start_time": "2024-09-28T20:00:35.906306300Z"
    }
   }
  },
  {
   "cell_type": "markdown",
   "source": [
    "## PREDICTING PRICES USING A NEURAL NETWORK"
   ],
   "metadata": {
    "collapsed": false
   }
  },
  {
   "cell_type": "code",
   "execution_count": 132,
   "outputs": [],
   "source": [
    "import tensorflow as tf\n",
    "normalization_layer = tf.keras.layers.Normalization()\n",
    "hidden_layer_1 = tf.keras"
   ],
   "metadata": {
    "collapsed": false,
    "ExecuteTime": {
     "end_time": "2024-09-28T20:05:18.404740800Z",
     "start_time": "2024-09-28T20:05:11.896669900Z"
    }
   }
  },
  {
   "cell_type": "code",
   "execution_count": null,
   "outputs": [],
   "source": [],
   "metadata": {
    "collapsed": false
   }
  }
 ],
 "metadata": {
  "kernelspec": {
   "display_name": "Python 3",
   "language": "python",
   "name": "python3"
  },
  "language_info": {
   "codemirror_mode": {
    "name": "ipython",
    "version": 2
   },
   "file_extension": ".py",
   "mimetype": "text/x-python",
   "name": "python",
   "nbconvert_exporter": "python",
   "pygments_lexer": "ipython2",
   "version": "2.7.6"
  }
 },
 "nbformat": 4,
 "nbformat_minor": 0
}
